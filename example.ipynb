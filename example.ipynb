{
 "cells": [
  {
   "cell_type": "code",
   "execution_count": null,
   "metadata": {},
   "outputs": [],
   "source": [
    "from czibench.datasets.sc import SingleCellDataset\n",
    "from czibench.datasets.types import Organism\n",
    "from czibench.runner import ContainerRunner\n",
    "from czibench.tasks.sc import ClusteringTask, EmbeddingTask\n",
    "\n",
    "dataset = SingleCellDataset(\n",
    "    \"example.h5ad\",\n",
    "    organism=Organism.HUMAN,\n",
    ")\n",
    "\n",
    "runner = ContainerRunner(\n",
    "    image=\"czibench-scvi:latest\",\n",
    "    gpu=True,\n",
    ")\n",
    "\n",
    "dataset = runner.run(dataset)\n",
    "\n",
    "task = ClusteringTask(label_key=\"cell_type\")\n",
    "dataset, clustering_results = task.run(dataset)\n",
    "\n",
    "task = EmbeddingTask(label_key=\"cell_type\")\n",
    "dataset, embedding_results = task.run(dataset)"
   ]
  },
  {
   "cell_type": "code",
   "execution_count": 2,
   "metadata": {},
   "outputs": [],
   "source": [
    "clustering_results"
   ]
  },
  {
   "cell_type": "code",
   "execution_count": 3,
   "metadata": {},
   "outputs": [],
   "source": [
    "embedding_results"
   ]
  },
  {
   "cell_type": "code",
   "execution_count": 4,
   "metadata": {},
   "outputs": [],
   "source": [
    "import scanpy as sc\n",
    "sc.tl.umap(dataset.adata)\n",
    "sc.pl.umap(dataset.adata, color=\"cell_type\")"
   ]
  }
 ],
 "metadata": {
  "kernelspec": {
   "display_name": "bench",
   "language": "python",
   "name": "python3"
  },
  "language_info": {
   "codemirror_mode": {
    "name": "ipython",
    "version": 3
   },
   "file_extension": ".py",
   "mimetype": "text/x-python",
   "name": "python",
   "nbconvert_exporter": "python",
   "pygments_lexer": "ipython3",
   "version": "3.11.11"
  }
 },
 "nbformat": 4,
 "nbformat_minor": 2
}
