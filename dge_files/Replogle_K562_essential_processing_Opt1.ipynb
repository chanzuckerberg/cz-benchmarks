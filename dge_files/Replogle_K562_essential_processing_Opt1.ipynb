{
 "cells": [
  {
   "cell_type": "markdown",
   "id": "b1cb2772-0b1e-4694-892d-44f795bc3f4c",
   "metadata": {},
   "source": [
    "# Option 1"
   ]
  },
  {
   "cell_type": "code",
   "execution_count": 1,
   "id": "ce52616b-3bf4-4f9f-a051-c958f4529146",
   "metadata": {},
   "outputs": [],
   "source": [
    "# %load_ext autoreload\n",
    "# %autoreload 2"
   ]
  },
  {
   "cell_type": "code",
   "execution_count": 2,
   "id": "c036d543-da1b-4a7f-b5f9-0c72869e8f27",
   "metadata": {},
   "outputs": [],
   "source": [
    "from pathlib import Path\n",
    "import scanpy as sc\n",
    "import numpy as np\n",
    "import json\n",
    "import pandas as pd\n",
    "from tqdm import tqdm\n",
    "import os"
   ]
  },
  {
   "cell_type": "markdown",
   "id": "5162a86d-24cd-4ddf-ab84-a2e807f69c91",
   "metadata": {},
   "source": [
    "## Load Authors H5AD Data"
   ]
  },
  {
   "cell_type": "code",
   "execution_count": 3,
   "id": "a95e8d4e-0047-44fb-8f42-40fcd2f4f62e",
   "metadata": {},
   "outputs": [
    {
     "name": "stdout",
     "output_type": "stream",
     "text": [
      "．\n",
      "deg_jg\n",
      "K562\n",
      "k562_ctrl_for_batch_integration.h5ad\n",
      "K562_essential_normalized_singlecell_01.h5ad\n",
      "K562_essential_raw_singlecell_01.h5ad\n",
      "K562_gwps_normalized_singlecell_01.h5ad\n",
      "K562_gwps_raw_singlecell_01.h5ad\n",
      "raw_cr4\n",
      "raw_filt_h5ad\n",
      "raw_h5ad_from_cr4\n",
      "README.md\n"
     ]
    }
   ],
   "source": [
    "replogle_dir = Path('/data2/czbenchmarks/replogle2022')\n",
    "! ls {replogle_dir}"
   ]
  },
  {
   "cell_type": "code",
   "execution_count": 4,
   "id": "1b26dded-9e14-4ddf-83c5-6609ab4f1547",
   "metadata": {},
   "outputs": [
    {
     "name": "stdout",
     "output_type": "stream",
     "text": [
      "(310385, 8563)\n"
     ]
    }
   ],
   "source": [
    "adata = sc.read_h5ad(f\"{replogle_dir}/K562_essential_raw_singlecell_01.h5ad\")\n",
    "adata.obs = adata.obs.rename(columns={'gene_id':'condition', 'gene':'condition_name'})\n",
    "adata.var = adata.var.rename(columns={'gene_name':'gene'})\n",
    "print(adata.shape)"
   ]
  },
  {
   "cell_type": "code",
   "execution_count": 5,
   "id": "0e12d63a-897c-45db-b01d-8d3eb4666f56",
   "metadata": {},
   "outputs": [
    {
     "data": {
      "text/html": [
       "<div>\n",
       "<style scoped>\n",
       "    .dataframe tbody tr th:only-of-type {\n",
       "        vertical-align: middle;\n",
       "    }\n",
       "\n",
       "    .dataframe tbody tr th {\n",
       "        vertical-align: top;\n",
       "    }\n",
       "\n",
       "    .dataframe thead th {\n",
       "        text-align: right;\n",
       "    }\n",
       "</style>\n",
       "<table border=\"1\" class=\"dataframe\">\n",
       "  <thead>\n",
       "    <tr style=\"text-align: right;\">\n",
       "      <th>cell_barcode</th>\n",
       "      <th>AAACCCAAGAAATCCA-27</th>\n",
       "      <th>AAACCCAAGAACTTCC-31</th>\n",
       "    </tr>\n",
       "  </thead>\n",
       "  <tbody>\n",
       "    <tr>\n",
       "      <th>gem_group</th>\n",
       "      <td>27</td>\n",
       "      <td>31</td>\n",
       "    </tr>\n",
       "    <tr>\n",
       "      <th>condition_name</th>\n",
       "      <td>NAF1</td>\n",
       "      <td>BUB1</td>\n",
       "    </tr>\n",
       "    <tr>\n",
       "      <th>condition</th>\n",
       "      <td>ENSG00000145414</td>\n",
       "      <td>ENSG00000169679</td>\n",
       "    </tr>\n",
       "    <tr>\n",
       "      <th>transcript</th>\n",
       "      <td>P1P2</td>\n",
       "      <td>P1P2</td>\n",
       "    </tr>\n",
       "    <tr>\n",
       "      <th>gene_transcript</th>\n",
       "      <td>5449_NAF1_P1P2_ENSG00000145414</td>\n",
       "      <td>935_BUB1_P1P2_ENSG00000169679</td>\n",
       "    </tr>\n",
       "    <tr>\n",
       "      <th>sgID_AB</th>\n",
       "      <td>NAF1_+_164087918.23-P1P2|NAF1_-_164087674.23-P1P2</td>\n",
       "      <td>BUB1_-_111435363.23-P1P2|BUB1_-_111435372.23-P1P2</td>\n",
       "    </tr>\n",
       "    <tr>\n",
       "      <th>mitopercent</th>\n",
       "      <td>0.112083</td>\n",
       "      <td>0.179895</td>\n",
       "    </tr>\n",
       "    <tr>\n",
       "      <th>UMI_count</th>\n",
       "      <td>11438.0</td>\n",
       "      <td>5342.0</td>\n",
       "    </tr>\n",
       "    <tr>\n",
       "      <th>z_gemgroup_UMI</th>\n",
       "      <td>0.013047</td>\n",
       "      <td>-1.522247</td>\n",
       "    </tr>\n",
       "    <tr>\n",
       "      <th>core_scale_factor</th>\n",
       "      <td>0.813253</td>\n",
       "      <td>0.844107</td>\n",
       "    </tr>\n",
       "    <tr>\n",
       "      <th>core_adjusted_UMI_count</th>\n",
       "      <td>14064.512695</td>\n",
       "      <td>6328.584473</td>\n",
       "    </tr>\n",
       "  </tbody>\n",
       "</table>\n",
       "</div>"
      ],
      "text/plain": [
       "cell_barcode                                           AAACCCAAGAAATCCA-27  \\\n",
       "gem_group                                                               27   \n",
       "condition_name                                                        NAF1   \n",
       "condition                                                  ENSG00000145414   \n",
       "transcript                                                            P1P2   \n",
       "gene_transcript                             5449_NAF1_P1P2_ENSG00000145414   \n",
       "sgID_AB                  NAF1_+_164087918.23-P1P2|NAF1_-_164087674.23-P1P2   \n",
       "mitopercent                                                       0.112083   \n",
       "UMI_count                                                          11438.0   \n",
       "z_gemgroup_UMI                                                    0.013047   \n",
       "core_scale_factor                                                 0.813253   \n",
       "core_adjusted_UMI_count                                       14064.512695   \n",
       "\n",
       "cell_barcode                                           AAACCCAAGAACTTCC-31  \n",
       "gem_group                                                               31  \n",
       "condition_name                                                        BUB1  \n",
       "condition                                                  ENSG00000169679  \n",
       "transcript                                                            P1P2  \n",
       "gene_transcript                              935_BUB1_P1P2_ENSG00000169679  \n",
       "sgID_AB                  BUB1_-_111435363.23-P1P2|BUB1_-_111435372.23-P1P2  \n",
       "mitopercent                                                       0.179895  \n",
       "UMI_count                                                           5342.0  \n",
       "z_gemgroup_UMI                                                   -1.522247  \n",
       "core_scale_factor                                                 0.844107  \n",
       "core_adjusted_UMI_count                                        6328.584473  "
      ]
     },
     "execution_count": 5,
     "metadata": {},
     "output_type": "execute_result"
    }
   ],
   "source": [
    "adata.obs.head(n=2).T"
   ]
  },
  {
   "cell_type": "code",
   "execution_count": 6,
   "id": "9fad4bd8-bceb-40ce-95ed-df6432e913fe",
   "metadata": {},
   "outputs": [
    {
     "data": {
      "text/html": [
       "<div>\n",
       "<style scoped>\n",
       "    .dataframe tbody tr th:only-of-type {\n",
       "        vertical-align: middle;\n",
       "    }\n",
       "\n",
       "    .dataframe tbody tr th {\n",
       "        vertical-align: top;\n",
       "    }\n",
       "\n",
       "    .dataframe thead th {\n",
       "        text-align: right;\n",
       "    }\n",
       "</style>\n",
       "<table border=\"1\" class=\"dataframe\">\n",
       "  <thead>\n",
       "    <tr style=\"text-align: right;\">\n",
       "      <th></th>\n",
       "      <th>gene</th>\n",
       "      <th>chr</th>\n",
       "      <th>start</th>\n",
       "      <th>end</th>\n",
       "      <th>class</th>\n",
       "      <th>strand</th>\n",
       "      <th>length</th>\n",
       "      <th>in_matrix</th>\n",
       "      <th>mean</th>\n",
       "      <th>std</th>\n",
       "      <th>cv</th>\n",
       "      <th>fano</th>\n",
       "    </tr>\n",
       "    <tr>\n",
       "      <th>gene_id</th>\n",
       "      <th></th>\n",
       "      <th></th>\n",
       "      <th></th>\n",
       "      <th></th>\n",
       "      <th></th>\n",
       "      <th></th>\n",
       "      <th></th>\n",
       "      <th></th>\n",
       "      <th></th>\n",
       "      <th></th>\n",
       "      <th></th>\n",
       "      <th></th>\n",
       "    </tr>\n",
       "  </thead>\n",
       "  <tbody>\n",
       "    <tr>\n",
       "      <th>ENSG00000237491</th>\n",
       "      <td>LINC01409</td>\n",
       "      <td>chr1</td>\n",
       "      <td>778747</td>\n",
       "      <td>810065</td>\n",
       "      <td>gene_version10</td>\n",
       "      <td>+</td>\n",
       "      <td>31318</td>\n",
       "      <td>True</td>\n",
       "      <td>0.137594</td>\n",
       "      <td>0.380048</td>\n",
       "      <td>2.762105</td>\n",
       "      <td>1.049733</td>\n",
       "    </tr>\n",
       "    <tr>\n",
       "      <th>ENSG00000228794</th>\n",
       "      <td>LINC01128</td>\n",
       "      <td>chr1</td>\n",
       "      <td>825138</td>\n",
       "      <td>868202</td>\n",
       "      <td>gene_version9</td>\n",
       "      <td>+</td>\n",
       "      <td>43064</td>\n",
       "      <td>True</td>\n",
       "      <td>0.256720</td>\n",
       "      <td>0.520162</td>\n",
       "      <td>2.026184</td>\n",
       "      <td>1.053944</td>\n",
       "    </tr>\n",
       "  </tbody>\n",
       "</table>\n",
       "</div>"
      ],
      "text/plain": [
       "                      gene   chr   start     end           class strand  \\\n",
       "gene_id                                                                   \n",
       "ENSG00000237491  LINC01409  chr1  778747  810065  gene_version10      +   \n",
       "ENSG00000228794  LINC01128  chr1  825138  868202   gene_version9      +   \n",
       "\n",
       "                 length  in_matrix      mean       std        cv      fano  \n",
       "gene_id                                                                     \n",
       "ENSG00000237491   31318       True  0.137594  0.380048  2.762105  1.049733  \n",
       "ENSG00000228794   43064       True  0.256720  0.520162  2.026184  1.053944  "
      ]
     },
     "execution_count": 6,
     "metadata": {},
     "output_type": "execute_result"
    }
   ],
   "source": [
    "adata.var.head(n=2)"
   ]
  },
  {
   "cell_type": "markdown",
   "id": "1b885a4c-3b45-4e1e-b029-d507035e0125",
   "metadata": {},
   "source": [
    "## Gene Name to Ensembl ID Mapper\n",
    "This will be used to map the condition from gene name to ensembl_id in the auxilary data."
   ]
  },
  {
   "cell_type": "code",
   "execution_count": 7,
   "id": "6ea47dbd-67cb-4582-b531-88801f58171b",
   "metadata": {},
   "outputs": [],
   "source": [
    "map_gene_name_to_ensembl_id_pkl = 'map_gene_name_to_ensembl_id.pkl'\n",
    "\n",
    "obs_mapper = adata.obs[['condition_name', 'condition']].drop_duplicates().set_index('condition_name').rename(columns={'condition':'ensembl_id'})\n",
    "assert obs_mapper.shape[0] == obs_mapper['ensembl_id'].nunique() == obs_mapper.index.nunique()\n",
    "\n",
    "# var_mapper = adata.var[['gene_name']].reset_index().rename(columns={'gene_name':'gene', 'gene_id':'ensembl_id'}).set_index('gene')\n",
    "# assert var_mapper.shape[0] == var_mapper['ensembl_id'].nunique() == var_mapper.index.nunique()\n",
    "\n",
    "map_gene_name_to_ensembl_id = obs_mapper # var_mapper is not fully unique\n",
    "# map_gene_name_to_ensembl_id.to_pickle(map_gene_name_to_ensembl_id_pkl)"
   ]
  },
  {
   "cell_type": "code",
   "execution_count": 8,
   "id": "e4d5b0a6-914d-43a2-917b-e5f42886362d",
   "metadata": {},
   "outputs": [
    {
     "data": {
      "text/html": [
       "<div>\n",
       "<style scoped>\n",
       "    .dataframe tbody tr th:only-of-type {\n",
       "        vertical-align: middle;\n",
       "    }\n",
       "\n",
       "    .dataframe tbody tr th {\n",
       "        vertical-align: top;\n",
       "    }\n",
       "\n",
       "    .dataframe thead th {\n",
       "        text-align: right;\n",
       "    }\n",
       "</style>\n",
       "<table border=\"1\" class=\"dataframe\">\n",
       "  <thead>\n",
       "    <tr style=\"text-align: right;\">\n",
       "      <th></th>\n",
       "      <th>ensembl_id</th>\n",
       "    </tr>\n",
       "    <tr>\n",
       "      <th>condition_name</th>\n",
       "      <th></th>\n",
       "    </tr>\n",
       "  </thead>\n",
       "  <tbody>\n",
       "    <tr>\n",
       "      <th>NAF1</th>\n",
       "      <td>ENSG00000145414</td>\n",
       "    </tr>\n",
       "    <tr>\n",
       "      <th>BUB1</th>\n",
       "      <td>ENSG00000169679</td>\n",
       "    </tr>\n",
       "    <tr>\n",
       "      <th>UBL5</th>\n",
       "      <td>ENSG00000198258</td>\n",
       "    </tr>\n",
       "    <tr>\n",
       "      <th>C9orf16</th>\n",
       "      <td>ENSG00000171159</td>\n",
       "    </tr>\n",
       "    <tr>\n",
       "      <th>TIMM9</th>\n",
       "      <td>ENSG00000100575</td>\n",
       "    </tr>\n",
       "  </tbody>\n",
       "</table>\n",
       "</div>"
      ],
      "text/plain": [
       "                     ensembl_id\n",
       "condition_name                 \n",
       "NAF1            ENSG00000145414\n",
       "BUB1            ENSG00000169679\n",
       "UBL5            ENSG00000198258\n",
       "C9orf16         ENSG00000171159\n",
       "TIMM9           ENSG00000100575"
      ]
     },
     "execution_count": 8,
     "metadata": {},
     "output_type": "execute_result"
    }
   ],
   "source": [
    "map_gene_name_to_ensembl_id.head()"
   ]
  },
  {
   "cell_type": "markdown",
   "id": "a463a068-8982-41be-b8ff-2d4bbdf6aba5",
   "metadata": {},
   "source": [
    "## Background Matched Controls"
   ]
  },
  {
   "cell_type": "code",
   "execution_count": 25,
   "id": "f1957e8a-7022-4811-a8a3-ccd1f11a4e92",
   "metadata": {},
   "outputs": [
    {
     "data": {
      "text/plain": [
       "[]"
      ]
     },
     "execution_count": 25,
     "metadata": {},
     "output_type": "execute_result"
    }
   ],
   "source": [
    "control_cells_path = replogle_dir / \"deg_jg/ReplogleEssentialsCr4_GEM_libsizeMatched_NonTargetingCellIdsPerTarget.json\"\n",
    "\n",
    "with open(control_cells_path, 'r') as fh:\n",
    "    control_cells_ids = json.load(fh)\n",
    "\n",
    "control_cells_ids.pop('non-targeting')"
   ]
  },
  {
   "cell_type": "code",
   "execution_count": 26,
   "id": "77f8b40e-d4ec-458e-84dd-5825e807b9c4",
   "metadata": {},
   "outputs": [
    {
     "name": "stdout",
     "output_type": "stream",
     "text": [
      "Skipped 0 conditions: []\n",
      "['ENSG00000094914', 'ENSG00000127837', 'ENSG00000090861', 'ENSG00000124608', 'ENSG00000149313', 'ENSG00000275700', 'ENSG00000131269', 'ENSG00000135776', 'ENSG00000164163', 'ENSG00000204574']\n"
     ]
    }
   ],
   "source": [
    "index_set = set(adata.obs.index.values)\n",
    "\n",
    "# Map gene names to ensembl IDs\n",
    "skipped_conditions = []\n",
    "control_cells_ensembl_ids = {}\n",
    "for key in control_cells_ids.keys():\n",
    "    ensembl_id = map_gene_name_to_ensembl_id.loc[key].values[0]\n",
    "\n",
    "    if len(control_cells_ids[key]) == 0:\n",
    "        print(f\"No control cells for {key}\")\n",
    "    else:\n",
    "        if not isinstance(control_cells_ids[key], list):\n",
    "            assert control_cells_ids[key].ndim == 1\n",
    "        elif ensembl_id not in adata.obs.condition.values:\n",
    "            skipped_conditions.append(ensembl_id)\n",
    "        else:\n",
    "            assert all(x in index_set for x in control_cells_ids[key])\n",
    "            control_cells_ensembl_ids[ensembl_id] = list(control_cells_ids[key])\n",
    "\n",
    "print(f\"Skipped {len(skipped_conditions)} conditions: {skipped_conditions}\")\n",
    "print(list(control_cells_ensembl_ids.keys())[:10])\n",
    "# print(list(control_cells_ensembl_ids['ENSG00000094914'])[:10])"
   ]
  },
  {
   "cell_type": "markdown",
   "id": "019eb3de-c59e-4baf-a6be-5b4af31d835c",
   "metadata": {},
   "source": [
    "## Differential Expression Data"
   ]
  },
  {
   "cell_type": "code",
   "execution_count": 37,
   "id": "ad8d8acb-da9d-4c4e-a64f-2783e47f1d5e",
   "metadata": {},
   "outputs": [
    {
     "name": "stdout",
     "output_type": "stream",
     "text": [
      "The following dataframe columns contain nulls: []\n"
     ]
    }
   ],
   "source": [
    "de_base_path = \"/data2/compare_de_results_{de_type}.arrow\"\n",
    "\n",
    "de_results = {}\n",
    "for de_type in ['wilcoxon']:\n",
    "    de_data_path = de_base_path.format(de_type=de_type)\n",
    "    de_data = pd.read_parquet(de_data_path)\n",
    "\n",
    "    col_has_nulls = de_data.isnull().any()\n",
    "    col_has_nulls = col_has_nulls[col_has_nulls].index.values\n",
    "    print(f'The following dataframe columns contain nulls: {col_has_nulls}')\n",
    "\n",
    "    # No column name mapping required for Wilcoxon\n",
    "\n",
    "    orig_size = len(de_data)\n",
    "    de_data = pd.merge(de_data, \n",
    "                       map_gene_name_to_ensembl_id.reset_index().set_index('ensembl_id'), \n",
    "                       left_on='condition', \n",
    "                       right_index=True, \n",
    "                       how='left')\n",
    "    assert len(de_data) == orig_size\n",
    "    assert not de_data['condition'].isnull().any()\n",
    "    \n",
    "    # de_data.index = de_data.index.astype(str)\n",
    "    de_results[de_type] = de_data"
   ]
  },
  {
   "cell_type": "code",
   "execution_count": null,
   "id": "cb3cf343-8293-43fa-9dc6-d37c5bd01787",
   "metadata": {},
   "outputs": [],
   "source": []
  },
  {
   "cell_type": "code",
   "execution_count": null,
   "id": "4c7ca65e-d08f-4d93-9c3f-a84a41d5e07f",
   "metadata": {},
   "outputs": [],
   "source": []
  },
  {
   "cell_type": "code",
   "execution_count": 37,
   "id": "080ff056-3eae-47c6-926a-f157f0c56b8e",
   "metadata": {},
   "outputs": [
    {
     "name": "stdout",
     "output_type": "stream",
     "text": [
      "wilcoxon\n",
      "The following dataframe columns contain nulls: ['gene_name' 'gene_length' 'log_genelen']\n",
      "t_test\n",
      "The following dataframe columns contain nulls: ['logfoldchange']\n"
     ]
    }
   ],
   "source": [
    "# old path \"deg_jg/ReplogleEssentialsCr4_GEM_SigsOnly_wilcoxon-removeAvgZerosFalse-filtMinCells10.txt\"\n",
    "\n",
    "de_base_path = replogle_dir / \"K562\" / \"zero_shot_benchmark\"\n",
    "de_results = {}\n",
    "\n",
    "for de_type in ['wilcoxon', 't_test']:\n",
    "    print(de_type)\n",
    "    de_data_path = de_base_path / de_type / \"de_results.csv\"\n",
    "    de_data = pd.read_csv(de_data_path)\n",
    "\n",
    "    col_has_nulls = de_data.isnull().any()\n",
    "    col_has_nulls = col_has_nulls[col_has_nulls].index.values\n",
    "    print(f'The following dataframe columns contain nulls: {col_has_nulls}')\n",
    "    \n",
    "    if de_type == 'wilcoxon':\n",
    "        col_mapper = {'names':'gene_id', \n",
    "                      'target_gene':'condition_name',\n",
    "                       'scores':'score', \n",
    "                       'logfoldchanges':'logfoldchange', \n",
    "                       'pvals':'pval', \n",
    "                       'pvals_adj':'pval_adj'}\n",
    "        \n",
    "        de_data = de_data.rename(columns=col_mapper)\n",
    "        de_data = de_data[list(col_mapper.values())]\n",
    "        assert not de_data.isnull().any().any()\n",
    "\n",
    "    elif de_type == 't_test':\n",
    "        col_mapper = {'gene':'gene_id',\n",
    "                      'condition': 'condition_name',\n",
    "                      'score':'score',\n",
    "                      'logfoldchange':'logfoldchange',\n",
    "                      'pval':'pval',\n",
    "                      'pval_adj':'pval_adj',\n",
    "                      'smd': 'standardized_mean_diff',\n",
    "                      'group':'group'\n",
    "                      }\n",
    "        \n",
    "        de_data = de_data.rename(columns=col_mapper)\n",
    "        de_data = de_data[list(col_mapper.values())]\n",
    "        assert not de_data.drop(columns='logfoldchange').isnull().any().any()\n",
    "    \n",
    "    orig_size = len(de_data)\n",
    "    de_data = pd.merge(de_data, \n",
    "                       map_gene_name_to_ensembl_id, \n",
    "                       left_on='condition_name', \n",
    "                       right_index=True, \n",
    "                       how='left')\n",
    "    de_data = de_data.rename(columns={'ensembl_id':'condition'})\n",
    "    assert len(de_data) == orig_size\n",
    "    assert not de_data['condition'].isnull().any()\n",
    "    \n",
    "    # de_data.index = de_data.index.astype(str)\n",
    "    de_results[de_type] = de_data"
   ]
  },
  {
   "cell_type": "code",
   "execution_count": 38,
   "id": "c48e46fa-30f5-4448-8acf-916998a80ef5",
   "metadata": {},
   "outputs": [
    {
     "data": {
      "text/html": [
       "<div>\n",
       "<style scoped>\n",
       "    .dataframe tbody tr th:only-of-type {\n",
       "        vertical-align: middle;\n",
       "    }\n",
       "\n",
       "    .dataframe tbody tr th {\n",
       "        vertical-align: top;\n",
       "    }\n",
       "\n",
       "    .dataframe thead th {\n",
       "        text-align: right;\n",
       "    }\n",
       "</style>\n",
       "<table border=\"1\" class=\"dataframe\">\n",
       "  <thead>\n",
       "    <tr style=\"text-align: right;\">\n",
       "      <th></th>\n",
       "      <th>gene_id</th>\n",
       "      <th>condition_name</th>\n",
       "      <th>score</th>\n",
       "      <th>logfoldchange</th>\n",
       "      <th>pval</th>\n",
       "      <th>pval_adj</th>\n",
       "      <th>condition</th>\n",
       "    </tr>\n",
       "  </thead>\n",
       "  <tbody>\n",
       "    <tr>\n",
       "      <th>0</th>\n",
       "      <td>ENSG00000245910</td>\n",
       "      <td>SLU7</td>\n",
       "      <td>10.678079</td>\n",
       "      <td>1.049750</td>\n",
       "      <td>1.289127e-26</td>\n",
       "      <td>1.435959e-22</td>\n",
       "      <td>ENSG00000164609</td>\n",
       "    </tr>\n",
       "    <tr>\n",
       "      <th>1</th>\n",
       "      <td>ENSG00000177410</td>\n",
       "      <td>SLU7</td>\n",
       "      <td>9.709518</td>\n",
       "      <td>1.018977</td>\n",
       "      <td>2.746308e-22</td>\n",
       "      <td>1.529556e-18</td>\n",
       "      <td>ENSG00000164609</td>\n",
       "    </tr>\n",
       "    <tr>\n",
       "      <th>2</th>\n",
       "      <td>ENSG00000255717</td>\n",
       "      <td>SLU7</td>\n",
       "      <td>9.608023</td>\n",
       "      <td>1.691616</td>\n",
       "      <td>7.395531e-22</td>\n",
       "      <td>2.745961e-18</td>\n",
       "      <td>ENSG00000164609</td>\n",
       "    </tr>\n",
       "    <tr>\n",
       "      <th>3</th>\n",
       "      <td>ENSG00000149806</td>\n",
       "      <td>SLU7</td>\n",
       "      <td>9.155279</td>\n",
       "      <td>0.675583</td>\n",
       "      <td>5.421733e-20</td>\n",
       "      <td>1.207854e-16</td>\n",
       "      <td>ENSG00000164609</td>\n",
       "    </tr>\n",
       "    <tr>\n",
       "      <th>4</th>\n",
       "      <td>ENSG00000161970</td>\n",
       "      <td>SLU7</td>\n",
       "      <td>9.070821</td>\n",
       "      <td>0.609069</td>\n",
       "      <td>1.181242e-19</td>\n",
       "      <td>2.192975e-16</td>\n",
       "      <td>ENSG00000164609</td>\n",
       "    </tr>\n",
       "  </tbody>\n",
       "</table>\n",
       "</div>"
      ],
      "text/plain": [
       "           gene_id condition_name      score  logfoldchange          pval  \\\n",
       "0  ENSG00000245910           SLU7  10.678079       1.049750  1.289127e-26   \n",
       "1  ENSG00000177410           SLU7   9.709518       1.018977  2.746308e-22   \n",
       "2  ENSG00000255717           SLU7   9.608023       1.691616  7.395531e-22   \n",
       "3  ENSG00000149806           SLU7   9.155279       0.675583  5.421733e-20   \n",
       "4  ENSG00000161970           SLU7   9.070821       0.609069  1.181242e-19   \n",
       "\n",
       "       pval_adj        condition  \n",
       "0  1.435959e-22  ENSG00000164609  \n",
       "1  1.529556e-18  ENSG00000164609  \n",
       "2  2.745961e-18  ENSG00000164609  \n",
       "3  1.207854e-16  ENSG00000164609  \n",
       "4  2.192975e-16  ENSG00000164609  "
      ]
     },
     "execution_count": 38,
     "metadata": {},
     "output_type": "execute_result"
    }
   ],
   "source": [
    "de_results['wilcoxon'].head()"
   ]
  },
  {
   "cell_type": "code",
   "execution_count": 17,
   "id": "b5049861-1d04-4dd1-a232-21c0d8c6ce1b",
   "metadata": {},
   "outputs": [
    {
     "data": {
      "text/html": [
       "<div>\n",
       "<style scoped>\n",
       "    .dataframe tbody tr th:only-of-type {\n",
       "        vertical-align: middle;\n",
       "    }\n",
       "\n",
       "    .dataframe tbody tr th {\n",
       "        vertical-align: top;\n",
       "    }\n",
       "\n",
       "    .dataframe thead th {\n",
       "        text-align: right;\n",
       "    }\n",
       "</style>\n",
       "<table border=\"1\" class=\"dataframe\">\n",
       "  <thead>\n",
       "    <tr style=\"text-align: right;\">\n",
       "      <th></th>\n",
       "      <th>gene_id</th>\n",
       "      <th>condition_name</th>\n",
       "      <th>score</th>\n",
       "      <th>logfoldchange</th>\n",
       "      <th>pval</th>\n",
       "      <th>pval_adj</th>\n",
       "      <th>standardized_mean_diff</th>\n",
       "      <th>group</th>\n",
       "      <th>condition</th>\n",
       "    </tr>\n",
       "  </thead>\n",
       "  <tbody>\n",
       "    <tr>\n",
       "      <th>0</th>\n",
       "      <td>ENSG00000113161</td>\n",
       "      <td>NAF1</td>\n",
       "      <td>3.641039</td>\n",
       "      <td>NaN</td>\n",
       "      <td>0.000357</td>\n",
       "      <td>0.998205</td>\n",
       "      <td>0.531100</td>\n",
       "      <td>NAF1</td>\n",
       "      <td>ENSG00000145414</td>\n",
       "    </tr>\n",
       "    <tr>\n",
       "      <th>1</th>\n",
       "      <td>ENSG00000215251</td>\n",
       "      <td>NAF1</td>\n",
       "      <td>3.355280</td>\n",
       "      <td>NaN</td>\n",
       "      <td>0.000997</td>\n",
       "      <td>0.998205</td>\n",
       "      <td>0.489418</td>\n",
       "      <td>NAF1</td>\n",
       "      <td>ENSG00000145414</td>\n",
       "    </tr>\n",
       "    <tr>\n",
       "      <th>2</th>\n",
       "      <td>ENSG00000178694</td>\n",
       "      <td>NAF1</td>\n",
       "      <td>3.352882</td>\n",
       "      <td>NaN</td>\n",
       "      <td>0.001035</td>\n",
       "      <td>0.998205</td>\n",
       "      <td>0.489068</td>\n",
       "      <td>NAF1</td>\n",
       "      <td>ENSG00000145414</td>\n",
       "    </tr>\n",
       "    <tr>\n",
       "      <th>3</th>\n",
       "      <td>ENSG00000131148</td>\n",
       "      <td>NAF1</td>\n",
       "      <td>3.333118</td>\n",
       "      <td>NaN</td>\n",
       "      <td>0.001052</td>\n",
       "      <td>0.998205</td>\n",
       "      <td>0.486185</td>\n",
       "      <td>NAF1</td>\n",
       "      <td>ENSG00000145414</td>\n",
       "    </tr>\n",
       "    <tr>\n",
       "      <th>4</th>\n",
       "      <td>ENSG00000196418</td>\n",
       "      <td>NAF1</td>\n",
       "      <td>3.263372</td>\n",
       "      <td>NaN</td>\n",
       "      <td>0.001313</td>\n",
       "      <td>0.998205</td>\n",
       "      <td>0.476012</td>\n",
       "      <td>NAF1</td>\n",
       "      <td>ENSG00000145414</td>\n",
       "    </tr>\n",
       "  </tbody>\n",
       "</table>\n",
       "</div>"
      ],
      "text/plain": [
       "           gene_id condition_name     score  logfoldchange      pval  \\\n",
       "0  ENSG00000113161           NAF1  3.641039            NaN  0.000357   \n",
       "1  ENSG00000215251           NAF1  3.355280            NaN  0.000997   \n",
       "2  ENSG00000178694           NAF1  3.352882            NaN  0.001035   \n",
       "3  ENSG00000131148           NAF1  3.333118            NaN  0.001052   \n",
       "4  ENSG00000196418           NAF1  3.263372            NaN  0.001313   \n",
       "\n",
       "   pval_adj  standardized_mean_diff group        condition  \n",
       "0  0.998205                0.531100  NAF1  ENSG00000145414  \n",
       "1  0.998205                0.489418  NAF1  ENSG00000145414  \n",
       "2  0.998205                0.489068  NAF1  ENSG00000145414  \n",
       "3  0.998205                0.486185  NAF1  ENSG00000145414  \n",
       "4  0.998205                0.476012  NAF1  ENSG00000145414  "
      ]
     },
     "execution_count": 17,
     "metadata": {},
     "output_type": "execute_result"
    }
   ],
   "source": [
    "de_results['t_test'].head()"
   ]
  },
  {
   "cell_type": "code",
   "execution_count": 18,
   "id": "0d70580e-3206-4615-b40f-6e2291863df0",
   "metadata": {},
   "outputs": [
    {
     "data": {
      "text/html": [
       "<div>\n",
       "<style scoped>\n",
       "    .dataframe tbody tr th:only-of-type {\n",
       "        vertical-align: middle;\n",
       "    }\n",
       "\n",
       "    .dataframe tbody tr th {\n",
       "        vertical-align: top;\n",
       "    }\n",
       "\n",
       "    .dataframe thead th {\n",
       "        text-align: right;\n",
       "    }\n",
       "</style>\n",
       "<table border=\"1\" class=\"dataframe\">\n",
       "  <thead>\n",
       "    <tr style=\"text-align: right;\">\n",
       "      <th>cell_barcode</th>\n",
       "      <th>AAACCCAAGAAATCCA-27</th>\n",
       "      <th>AAACCCAAGAACTTCC-31</th>\n",
       "    </tr>\n",
       "  </thead>\n",
       "  <tbody>\n",
       "    <tr>\n",
       "      <th>gem_group</th>\n",
       "      <td>27</td>\n",
       "      <td>31</td>\n",
       "    </tr>\n",
       "    <tr>\n",
       "      <th>condition_name</th>\n",
       "      <td>NAF1</td>\n",
       "      <td>BUB1</td>\n",
       "    </tr>\n",
       "    <tr>\n",
       "      <th>condition</th>\n",
       "      <td>ENSG00000145414</td>\n",
       "      <td>ENSG00000169679</td>\n",
       "    </tr>\n",
       "    <tr>\n",
       "      <th>transcript</th>\n",
       "      <td>P1P2</td>\n",
       "      <td>P1P2</td>\n",
       "    </tr>\n",
       "    <tr>\n",
       "      <th>gene_transcript</th>\n",
       "      <td>5449_NAF1_P1P2_ENSG00000145414</td>\n",
       "      <td>935_BUB1_P1P2_ENSG00000169679</td>\n",
       "    </tr>\n",
       "    <tr>\n",
       "      <th>sgID_AB</th>\n",
       "      <td>NAF1_+_164087918.23-P1P2|NAF1_-_164087674.23-P1P2</td>\n",
       "      <td>BUB1_-_111435363.23-P1P2|BUB1_-_111435372.23-P1P2</td>\n",
       "    </tr>\n",
       "    <tr>\n",
       "      <th>mitopercent</th>\n",
       "      <td>0.112083</td>\n",
       "      <td>0.179895</td>\n",
       "    </tr>\n",
       "    <tr>\n",
       "      <th>UMI_count</th>\n",
       "      <td>11438.0</td>\n",
       "      <td>5342.0</td>\n",
       "    </tr>\n",
       "    <tr>\n",
       "      <th>z_gemgroup_UMI</th>\n",
       "      <td>0.013047</td>\n",
       "      <td>-1.522247</td>\n",
       "    </tr>\n",
       "    <tr>\n",
       "      <th>core_scale_factor</th>\n",
       "      <td>0.813253</td>\n",
       "      <td>0.844107</td>\n",
       "    </tr>\n",
       "    <tr>\n",
       "      <th>core_adjusted_UMI_count</th>\n",
       "      <td>14064.512695</td>\n",
       "      <td>6328.584473</td>\n",
       "    </tr>\n",
       "  </tbody>\n",
       "</table>\n",
       "</div>"
      ],
      "text/plain": [
       "cell_barcode                                           AAACCCAAGAAATCCA-27  \\\n",
       "gem_group                                                               27   \n",
       "condition_name                                                        NAF1   \n",
       "condition                                                  ENSG00000145414   \n",
       "transcript                                                            P1P2   \n",
       "gene_transcript                             5449_NAF1_P1P2_ENSG00000145414   \n",
       "sgID_AB                  NAF1_+_164087918.23-P1P2|NAF1_-_164087674.23-P1P2   \n",
       "mitopercent                                                       0.112083   \n",
       "UMI_count                                                          11438.0   \n",
       "z_gemgroup_UMI                                                    0.013047   \n",
       "core_scale_factor                                                 0.813253   \n",
       "core_adjusted_UMI_count                                       14064.512695   \n",
       "\n",
       "cell_barcode                                           AAACCCAAGAACTTCC-31  \n",
       "gem_group                                                               31  \n",
       "condition_name                                                        BUB1  \n",
       "condition                                                  ENSG00000169679  \n",
       "transcript                                                            P1P2  \n",
       "gene_transcript                              935_BUB1_P1P2_ENSG00000169679  \n",
       "sgID_AB                  BUB1_-_111435363.23-P1P2|BUB1_-_111435372.23-P1P2  \n",
       "mitopercent                                                       0.179895  \n",
       "UMI_count                                                           5342.0  \n",
       "z_gemgroup_UMI                                                   -1.522247  \n",
       "core_scale_factor                                                 0.844107  \n",
       "core_adjusted_UMI_count                                        6328.584473  "
      ]
     },
     "execution_count": 18,
     "metadata": {},
     "output_type": "execute_result"
    }
   ],
   "source": [
    "adata.obs.head(n=2).T"
   ]
  },
  {
   "cell_type": "code",
   "execution_count": 19,
   "id": "8d083b89-80aa-44d4-ac94-4b12f2925561",
   "metadata": {},
   "outputs": [
    {
     "data": {
      "text/html": [
       "<div>\n",
       "<style scoped>\n",
       "    .dataframe tbody tr th:only-of-type {\n",
       "        vertical-align: middle;\n",
       "    }\n",
       "\n",
       "    .dataframe tbody tr th {\n",
       "        vertical-align: top;\n",
       "    }\n",
       "\n",
       "    .dataframe thead th {\n",
       "        text-align: right;\n",
       "    }\n",
       "</style>\n",
       "<table border=\"1\" class=\"dataframe\">\n",
       "  <thead>\n",
       "    <tr style=\"text-align: right;\">\n",
       "      <th>gene_id</th>\n",
       "      <th>ENSG00000237491</th>\n",
       "      <th>ENSG00000228794</th>\n",
       "    </tr>\n",
       "  </thead>\n",
       "  <tbody>\n",
       "    <tr>\n",
       "      <th>gene</th>\n",
       "      <td>LINC01409</td>\n",
       "      <td>LINC01128</td>\n",
       "    </tr>\n",
       "    <tr>\n",
       "      <th>chr</th>\n",
       "      <td>chr1</td>\n",
       "      <td>chr1</td>\n",
       "    </tr>\n",
       "    <tr>\n",
       "      <th>start</th>\n",
       "      <td>778747</td>\n",
       "      <td>825138</td>\n",
       "    </tr>\n",
       "    <tr>\n",
       "      <th>end</th>\n",
       "      <td>810065</td>\n",
       "      <td>868202</td>\n",
       "    </tr>\n",
       "    <tr>\n",
       "      <th>class</th>\n",
       "      <td>gene_version10</td>\n",
       "      <td>gene_version9</td>\n",
       "    </tr>\n",
       "    <tr>\n",
       "      <th>strand</th>\n",
       "      <td>+</td>\n",
       "      <td>+</td>\n",
       "    </tr>\n",
       "    <tr>\n",
       "      <th>length</th>\n",
       "      <td>31318</td>\n",
       "      <td>43064</td>\n",
       "    </tr>\n",
       "    <tr>\n",
       "      <th>in_matrix</th>\n",
       "      <td>True</td>\n",
       "      <td>True</td>\n",
       "    </tr>\n",
       "    <tr>\n",
       "      <th>mean</th>\n",
       "      <td>0.137594</td>\n",
       "      <td>0.25672</td>\n",
       "    </tr>\n",
       "    <tr>\n",
       "      <th>std</th>\n",
       "      <td>0.380048</td>\n",
       "      <td>0.520162</td>\n",
       "    </tr>\n",
       "    <tr>\n",
       "      <th>cv</th>\n",
       "      <td>2.762105</td>\n",
       "      <td>2.026184</td>\n",
       "    </tr>\n",
       "    <tr>\n",
       "      <th>fano</th>\n",
       "      <td>1.049733</td>\n",
       "      <td>1.053944</td>\n",
       "    </tr>\n",
       "  </tbody>\n",
       "</table>\n",
       "</div>"
      ],
      "text/plain": [
       "gene_id   ENSG00000237491 ENSG00000228794\n",
       "gene            LINC01409       LINC01128\n",
       "chr                  chr1            chr1\n",
       "start              778747          825138\n",
       "end                810065          868202\n",
       "class      gene_version10   gene_version9\n",
       "strand                  +               +\n",
       "length              31318           43064\n",
       "in_matrix            True            True\n",
       "mean             0.137594         0.25672\n",
       "std              0.380048        0.520162\n",
       "cv               2.762105        2.026184\n",
       "fano             1.049733        1.053944"
      ]
     },
     "execution_count": 19,
     "metadata": {},
     "output_type": "execute_result"
    }
   ],
   "source": [
    "adata.var.head(n=2).T"
   ]
  },
  {
   "cell_type": "markdown",
   "id": "4d499577-ed8a-4d70-be36-cc91a35fdbdc",
   "metadata": {},
   "source": [
    "## Update and Write H5AD Ground Truth"
   ]
  },
  {
   "cell_type": "code",
   "execution_count": 42,
   "id": "03f9ffdb-14ae-499d-bc50-626034026e9c",
   "metadata": {},
   "outputs": [
    {
     "name": "stdout",
     "output_type": "stream",
     "text": [
      "Adding control cell ids\n",
      "Adding de results wilcoxon\n",
      "Adding de results t_test\n",
      "Saving h5ad file\n",
      "Finished\n"
     ]
    }
   ],
   "source": [
    "output_h5ad_name = '/data2/czbenchmarks/replogle_k562_essential_perturbpredict_de_results_control_cells.h5ad'\n",
    "\n",
    "print('Adding control cell ids')\n",
    "adata.uns['control_cells_ids'] = control_cells_ensembl_ids\n",
    "\n",
    "print('Adding de results wilcoxon')\n",
    "adata.uns['de_results_wilcoxon'] = de_results['wilcoxon']\n",
    "\n",
    "print('Adding de results t_test')\n",
    "adata.uns['de_results_t_test'] = de_results['t_test']\n",
    "\n",
    "print('Saving h5ad file')\n",
    "sc.write(output_h5ad_name, adata)\n",
    "print('Finished')"
   ]
  },
  {
   "cell_type": "code",
   "execution_count": 44,
   "id": "f2a6dd12-8a17-49c7-94a4-7bacfe620ac4",
   "metadata": {},
   "outputs": [
    {
     "name": "stdout",
     "output_type": "stream",
     "text": [
      "838a10967f13fcddec6062c9b78d3a19  /data2/czbenchmarks/replogle_k562_essential_perturbpredict_de_results_control_cells.h5ad\n"
     ]
    }
   ],
   "source": [
    "! md5sum {output_h5ad_name}"
   ]
  },
  {
   "cell_type": "code",
   "execution_count": 45,
   "id": "80cd9548-f191-4c71-affe-dfcafb6f1fb9",
   "metadata": {},
   "outputs": [
    {
     "name": "stdout",
     "output_type": "stream",
     "text": [
      "Copying to cache\n",
      "Finished\n"
     ]
    }
   ],
   "source": [
    "print('Copying to cache')\n",
    "output_file_basename = os.path.basename(output_h5ad_name)\n",
    "! cp {output_h5ad_name} /home/mgill/.cz-benchmarks/datasets/{output_file_basename}\n",
    "\n",
    "print('Finished')"
   ]
  },
  {
   "cell_type": "code",
   "execution_count": 46,
   "id": "f7c4b9c0-2c18-4ebf-8ee8-7de36864dfc6",
   "metadata": {},
   "outputs": [
    {
     "name": "stdout",
     "output_type": "stream",
     "text": [
      "Copying to s3\n",
      "2025/08/21 04:20:11 NOTICE: s3: s3 provider \"\" not known - please set correctly\n",
      "2025/08/21 04:21:11 INFO  : \n",
      "Transferred:   \t    2.361 GiB / 4.609 GiB, 51%, 46.329 MiB/s, ETA 49s\n",
      "Transferred:            0 / 1, 0%\n",
      "Elapsed time:        59.9s\n",
      "Transferring:\n",
      " * replogle_k562_essentia…lts_control_cells.h5ad: 51% /4.609Gi, 47.565Mi/s, 48s\n",
      "\n",
      "2025/08/21 04:22:08 INFO  : replogle_k562_essential_perturbpredict_de_results_control_cells.h5ad: Multi-thread Copied (replaced existing)\n",
      "2025/08/21 04:22:08 INFO  : \n",
      "Transferred:   \t    4.609 GiB / 4.609 GiB, 100%, 36.083 MiB/s, ETA 0s\n",
      "Transferred:            1 / 1, 100%\n",
      "Elapsed time:      1m56.1s\n",
      "\n",
      "Finished\n"
     ]
    }
   ],
   "source": [
    "print('Copying to s3')\n",
    "output_file_basename = os.path.basename(output_h5ad_name)\n",
    "! rclone copy {output_h5ad_name}  swift-bio-foundation-s3:/scgym-files/{output_file_basename} --verbose\n",
    "print('Finished')"
   ]
  },
  {
   "cell_type": "code",
   "execution_count": 47,
   "id": "bd9f68e0-5d6c-4bc8-8e11-9b136280330c",
   "metadata": {},
   "outputs": [
    {
     "data": {
      "text/plain": [
       "((310385, 8563), 2058, (20793007, 7), (16334637, 9))"
      ]
     },
     "execution_count": 47,
     "metadata": {},
     "output_type": "execute_result"
    }
   ],
   "source": [
    "adata.shape, len(adata.uns['control_cells_ids'].keys()), adata.uns['de_results_wilcoxon'].shape, adata.uns['de_results_t_test'].shape"
   ]
  },
  {
   "cell_type": "code",
   "execution_count": 15,
   "id": "9cc51dfb-ba26-4989-9ab4-20a601bfe6be",
   "metadata": {},
   "outputs": [
    {
     "data": {
      "text/plain": [
       "((310385, 8563), 2058, (20793007, 7), (16334637, 9))"
      ]
     },
     "execution_count": 15,
     "metadata": {},
     "output_type": "execute_result"
    }
   ],
   "source": [
    "adata.shape, len(adata.uns['control_cells_ids'].keys()), adata.uns['de_results_wilcoxon'].shape, adata.uns['de_results_t_test'].shape"
   ]
  },
  {
   "cell_type": "code",
   "execution_count": null,
   "id": "52625bf5-abc0-446d-9d03-56377415ddb3",
   "metadata": {},
   "outputs": [],
   "source": []
  }
 ],
 "metadata": {
  "kernelspec": {
   "display_name": "Python 3 (ipykernel)",
   "language": "python",
   "name": "python3"
  },
  "language_info": {
   "codemirror_mode": {
    "name": "ipython",
    "version": 3
   },
   "file_extension": ".py",
   "mimetype": "text/x-python",
   "name": "python",
   "nbconvert_exporter": "python",
   "pygments_lexer": "ipython3",
   "version": "3.12.7"
  }
 },
 "nbformat": 4,
 "nbformat_minor": 5
}
