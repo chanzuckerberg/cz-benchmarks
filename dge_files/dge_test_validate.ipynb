{
 "cells": [
  {
   "cell_type": "code",
   "execution_count": 1,
   "id": "e5ec69c8",
   "metadata": {},
   "outputs": [],
   "source": [
    "# %reload_ext autoreload\n",
    "# %autoreload 2\n",
    "# %aimport czbenchmarks.datasets.utils_single_cell\n",
    "import czbenchmarks.datasets.utils_single_cell as scp\n",
    "\n",
    "import os\n",
    "import scanpy as sc\n",
    "import pandas as pd\n",
    "import anndata as ad\n",
    "import numpy as np\n",
    "from pandas.testing import assert_frame_equal\n",
    "import matplotlib.pyplot as plt"
   ]
  },
  {
   "cell_type": "code",
   "execution_count": 2,
   "id": "c766f77d-87a4-4d5e-b55b-3f49ccb5efe6",
   "metadata": {},
   "outputs": [],
   "source": [
    "deg_name = 'wilcoxon'"
   ]
  },
  {
   "cell_type": "markdown",
   "id": "c683549d-e3e3-4717-bc17-87ae43beb978",
   "metadata": {},
   "source": [
    "## Load Data"
   ]
  },
  {
   "cell_type": "code",
   "execution_count": 3,
   "id": "77056d83",
   "metadata": {},
   "outputs": [],
   "source": [
    "filtered_data_path = f\"{os.environ['HOME']}/.cz-benchmarks/datasets/replogle_k562_essential_perturbpredict_de_results_control_cells.h5ad\"\n",
    "# filtered_data_path = \"/data2/czbenchmarks/replogle2022/K562_essential_raw_singlecell_01.h5ad\"\n",
    "adata_filtered = ad.read_h5ad(filtered_data_path, backed=None)"
   ]
  },
  {
   "cell_type": "code",
   "execution_count": 4,
   "id": "0c478f00-1b3a-4a9b-a03f-60c079509ea0",
   "metadata": {},
   "outputs": [
    {
     "data": {
      "text/plain": [
       "array([], dtype=float64)"
      ]
     },
     "execution_count": 4,
     "metadata": {},
     "output_type": "execute_result"
    }
   ],
   "source": [
    "de_results = pd.DataFrame(adata_filtered.uns[f\"de_results_{deg_name}\"])\n",
    "# de_results['condition'] = de_results['condition'].cat.remove_unused_categories()\n",
    "de_results['condition'] = de_results['condition'].astype(str)\n",
    "\n",
    "control_cells_ids = adata_filtered.uns[\"control_cells_ids\"]\n",
    "control_cells_ids.pop(\"non-targeting\", None)"
   ]
  },
  {
   "cell_type": "code",
   "execution_count": 5,
   "id": "dc68011d",
   "metadata": {},
   "outputs": [],
   "source": [
    "cr4_data_path = (\n",
    "    \"/data2/czbenchmarks/replogle2022/raw_h5ad_from_cr4/K562_essential_mtx.h5ad\"\n",
    ")\n",
    "adata_cr4 = ad.read_h5ad(cr4_data_path, backed=None)\n",
    "adata_cr4.var.index.name = \"gene_id\"\n",
    "adata_cr4.var.rename(columns={\"gene_name\": \"gene\"}, inplace=True)\n",
    "adata_cr4.obs.rename(columns={\"gene_id\": \"condition\"}, inplace=True)"
   ]
  },
  {
   "cell_type": "markdown",
   "id": "74f62005-792a-46d8-872d-0b8d74c090c7",
   "metadata": {},
   "source": [
    "## Compare Keys and Shapes"
   ]
  },
  {
   "cell_type": "code",
   "execution_count": 6,
   "id": "8799bf83",
   "metadata": {},
   "outputs": [
    {
     "data": {
      "text/plain": [
       "((310385, 32628), (310385, 8563), (20793007, 7))"
      ]
     },
     "execution_count": 6,
     "metadata": {},
     "output_type": "execute_result"
    }
   ],
   "source": [
    "adata_cr4.shape, adata_filtered.shape, de_results.shape"
   ]
  },
  {
   "cell_type": "code",
   "execution_count": 7,
   "id": "30429ad0",
   "metadata": {},
   "outputs": [
    {
     "name": "stdout",
     "output_type": "stream",
     "text": [
      "wilcoxon\n",
      "{'non-targeting'}\n",
      "set()\n"
     ]
    }
   ],
   "source": [
    "# The only missing condition is non-targeting (i.e. the control)\n",
    "print(deg_name)\n",
    "print(\n",
    "    set(adata_filtered.obs.condition.unique())\n",
    "    - set(de_results.condition.unique())\n",
    ")\n",
    "print(\n",
    "    set(de_results.condition.unique())\n",
    "    - set(adata_filtered.obs.condition.unique())\n",
    ")"
   ]
  },
  {
   "cell_type": "markdown",
   "id": "af539c1e-d5c7-4f98-9197-6f6a0471aa90",
   "metadata": {},
   "source": [
    "## Run DGE Analysis"
   ]
  },
  {
   "cell_type": "code",
   "execution_count": null,
   "id": "fc8cea78",
   "metadata": {},
   "outputs": [
    {
     "name": "stdout",
     "output_type": "stream",
     "text": [
      "wilcoxon\n"
     ]
    },
    {
     "name": "stderr",
     "output_type": "stream",
     "text": [
      "Processing de conditions:   1%|▌                                                                 | 19/2057 [00:15<08:20,  4.07item/s, Completed 19/2057]"
     ]
    }
   ],
   "source": [
    "print(deg_name)\n",
    "# num_conditions = 10\n",
    "# condition_list = np.asarray(list(control_cells_ids.keys()))\n",
    "# condition_list = np.random.choice(condition_list, size=num_conditions, replace=False)\n",
    "# new_control_cells_ids = {k: control_cells_ids[k] for k in condition_list}\n",
    "new_control_cells_ids = control_cells_ids \n",
    "min_pert_cells=1 # 1, 50\n",
    "\n",
    "results, conditions_filtered = scp.run_multicondition_dge_analysis(\n",
    "    adata=adata_cr4,\n",
    "    condition_key=\"condition\",\n",
    "    control_name=\"non-targeting\",\n",
    "    control_cells_ids=new_control_cells_ids,\n",
    "    deg_test_name=deg_name,\n",
    "    filter_min_cells=10,  # 0, 10\n",
    "    filter_min_genes=10,  # 0, 1000\n",
    "    min_pert_cells=min_pert_cells,  # 1, 50\n",
    "    remove_avg_zeros=False,\n",
    "    return_merged_adata=False,\n",
    ")\n",
    "\n",
    "results.to_parquet(f\"/data2/compare_de_results_{deg_name}_min_pert_cells_{min_pert_cells}.arrow\")\n",
    "\n"
   ]
  },
  {
   "cell_type": "code",
   "execution_count": null,
   "id": "5dc04a42-d5d9-4001-9cac-d4883869c8c3",
   "metadata": {},
   "outputs": [],
   "source": [
    "len(conditions_filtered), conditions_filtered"
   ]
  },
  {
   "cell_type": "markdown",
   "id": "7be8967e-239c-410f-b84c-36c7b56ce235",
   "metadata": {},
   "source": [
    "## Or load from disk"
   ]
  },
  {
   "cell_type": "code",
   "execution_count": null,
   "id": "53a6bade-db43-4c2d-abce-833b74dbf434",
   "metadata": {},
   "outputs": [],
   "source": [
    "# results = pd.read_parquet(f\"/data2/compare_de_results_{deg_name}.arrow\")"
   ]
  },
  {
   "cell_type": "code",
   "execution_count": null,
   "id": "de6d1cc1",
   "metadata": {},
   "outputs": [],
   "source": [
    "print(deg_name, results.shape, de_results.shape)"
   ]
  },
  {
   "cell_type": "code",
   "execution_count": null,
   "id": "6d570ef4-f685-499f-b749-ebbbbefb1270",
   "metadata": {},
   "outputs": [],
   "source": [
    "32628 * 2057"
   ]
  },
  {
   "cell_type": "markdown",
   "id": "6f27adde-0bf2-421a-9e34-c59abd5c1c90",
   "metadata": {},
   "source": [
    "## Define Intersection / Unique Sets"
   ]
  },
  {
   "cell_type": "code",
   "execution_count": null,
   "id": "4bddeb88-0528-4c3e-b41e-230e63690ecc",
   "metadata": {},
   "outputs": [],
   "source": [
    "# Create a column with condition / gene_id to filter the data for similarity\n",
    "def zip_names(df):\n",
    "    condition = df['condition'].astype(str).values\n",
    "    gene_id = df['gene_id'].astype(str).values\n",
    "    mapper = list(map(lambda x: '_'.join([x[0], x[1]]), zip(condition, gene_id)))\n",
    "    return mapper\n",
    "\n",
    "results['mapper'] = zip_names(results)\n",
    "de_results['mapper'] = zip_names(de_results)\n",
    "\n",
    "print(results.shape, de_results.shape)\n",
    "print(\"condition\", results['condition'].nunique(), de_results['condition'].nunique())\n",
    "print(\"gene_id\", results['gene_id'].nunique(), de_results['gene_id'].nunique())\n",
    "print(len(results['mapper']), len(de_results['mapper']))"
   ]
  },
  {
   "cell_type": "code",
   "execution_count": null,
   "id": "9c0eaa4a-f840-40eb-a513-071e08d084c4",
   "metadata": {},
   "outputs": [],
   "source": [
    "# All generated condition/gene pairs are a part of the previous generated condition/gene pairs\n",
    "print(set(results['mapper']).issubset(set(de_results['mapper'])))\n",
    "print(set(results['condition']).issubset(set(de_results['condition'])))"
   ]
  },
  {
   "cell_type": "code",
   "execution_count": null,
   "id": "a81eaf15-5fbb-4691-a499-6b340090e7af",
   "metadata": {},
   "outputs": [],
   "source": [
    "unique_condition_gene_pairs = list(set(de_results['mapper']) - set(results['mapper']))\n",
    "shared_condition_gene_pairs = list(set(de_results['mapper']).intersection(set(results['mapper'])))\n",
    "\n",
    "unique_conditions = list(set(de_results['condition']) - set(results['condition']))\n",
    "shared_conditions = list(set(de_results['condition']).intersection(set(results['condition'])))\n",
    "\n",
    "print(len(unique_condition_gene_pairs), len(shared_condition_gene_pairs))\n",
    "print(len(unique_conditions), len(shared_conditions))"
   ]
  },
  {
   "cell_type": "code",
   "execution_count": null,
   "id": "b2b89818-164e-439c-9ded-e8c7efe8e597",
   "metadata": {},
   "outputs": [],
   "source": [
    "import json\n",
    "with open(f\"/data2/unique_conditions_{deg_name}.json\", 'w') as fh:\n",
    "    json.dump(unique_conditions, fh)"
   ]
  },
  {
   "cell_type": "code",
   "execution_count": null,
   "id": "b7b3371b-e46a-4db7-9725-ed109377819d",
   "metadata": {},
   "outputs": [],
   "source": [
    "unique_condition_gene_df = pd.DataFrame(map(lambda x: x.split('_'), unique_condition_gene_pairs))\n",
    "if unique_condition_gene_df.shape[1] > 0:\n",
    "    unique_condition_gene_df.columns = ['condition', 'gene_id']\n",
    "\n",
    "print(len(unique_condition_gene_df))\n",
    "if len(unique_condition_gene_df) > 0:\n",
    "    unique_condition_gene_df.head()\n",
    "else:\n",
    "    unique_condition_gene_df = None"
   ]
  },
  {
   "cell_type": "code",
   "execution_count": null,
   "id": "6d13b6a2-8292-4050-b3d9-b653d6887eb9",
   "metadata": {},
   "outputs": [],
   "source": [
    "common_columns = sorted(set(de_results.columns).intersection(results.columns))\n",
    "de_columns = [c for c in de_results.columns if c not in common_columns]\n",
    "r_columns  = [c for c in results.columns if c not in common_columns]"
   ]
  },
  {
   "cell_type": "code",
   "execution_count": null,
   "id": "d39bcc1d-1f44-4ebb-9c6b-257232b778e7",
   "metadata": {},
   "outputs": [],
   "source": [
    "s_de_results = de_results[common_columns].set_index('mapper').loc[shared_condition_gene_pairs]\n",
    "s_results = results[common_columns].set_index('mapper').loc[shared_condition_gene_pairs]"
   ]
  },
  {
   "cell_type": "markdown",
   "id": "285aa7c4-8f05-4bae-9575-18611a59a825",
   "metadata": {},
   "source": [
    "## Examine Differences"
   ]
  },
  {
   "cell_type": "code",
   "execution_count": null,
   "id": "c71d173a-0b16-424f-91f7-50adfd152bd4",
   "metadata": {},
   "outputs": [],
   "source": [
    "de_results_unique_counts = (\n",
    "    de_results\n",
    "        .set_index('condition')\n",
    "        .loc[unique_conditions]\n",
    "        .groupby(level=0)\n",
    "        .count()\n",
    "        .describe()\n",
    ")\n",
    "de_results_unique_counts"
   ]
  },
  {
   "cell_type": "markdown",
   "id": "40b1c76f-6119-41cf-b10b-9eabef217baa",
   "metadata": {},
   "source": [
    "## Compare Common Conditions / Gene IDs"
   ]
  },
  {
   "cell_type": "code",
   "execution_count": null,
   "id": "a9068147-36d7-45fd-b573-0b54d24cf18e",
   "metadata": {},
   "outputs": [],
   "source": [
    "  with pd.option_context('display.width', 10000, 'display.max_columns', 100):\n",
    "    print(s_de_results.head())\n",
    "    print(s_results.head())"
   ]
  },
  {
   "cell_type": "code",
   "execution_count": null,
   "id": "e3ad725e-76a0-4f36-b4e8-cdda1eba5680",
   "metadata": {},
   "outputs": [],
   "source": [
    "s_de_results_counts = (\n",
    "    s_de_results\n",
    "        .set_index('condition')\n",
    "        ['gene_id']\n",
    "        .groupby(level=0)\n",
    "        .count()\n",
    ")\n",
    "\n",
    "s_results_counts = (\n",
    "    s_results\n",
    "        .set_index('condition')\n",
    "        ['gene_id']\n",
    "        .groupby(level=0)\n",
    "        .count()\n",
    ")\n",
    "\n",
    "print(s_de_results_counts.head())\n",
    "print(s_results_counts.head())"
   ]
  },
  {
   "cell_type": "code",
   "execution_count": null,
   "id": "93bd148b",
   "metadata": {},
   "outputs": [],
   "source": [
    "print(assert_frame_equal(\n",
    "    s_de_results_counts.to_frame(),\n",
    "    s_results_counts.to_frame(),\n",
    "))"
   ]
  },
  {
   "cell_type": "code",
   "execution_count": null,
   "id": "4f92f0a2",
   "metadata": {
    "scrolled": true
   },
   "outputs": [],
   "source": [
    "assert_frame_equal(\n",
    "    s_de_results,\n",
    "    s_results,\n",
    "    check_dtype=False,\n",
    "    check_index_type=False,\n",
    "    check_categorical=False,\n",
    "    atol=1.5e-2\n",
    ")"
   ]
  },
  {
   "cell_type": "code",
   "execution_count": null,
   "id": "d9aed3ad-a961-4fd2-a57f-35b8670a3af0",
   "metadata": {},
   "outputs": [],
   "source": [
    "diff_columns = ['logfoldchange', 'pval', 'pval_adj', 'score']\n",
    "diff_results = (\n",
    "    s_de_results[diff_columns] -\n",
    "    s_results[diff_columns]\n",
    ")\n",
    "diff_results.head()"
   ]
  },
  {
   "cell_type": "code",
   "execution_count": null,
   "id": "04656813-349b-4217-b478-7b343cd79479",
   "metadata": {},
   "outputs": [],
   "source": [
    "diff_results_describe = diff_results.describe()\n",
    "diff_results_describe"
   ]
  },
  {
   "cell_type": "code",
   "execution_count": null,
   "id": "a6537bba-292b-4a86-a367-7949d6b54126",
   "metadata": {},
   "outputs": [],
   "source": [
    "axes = diff_results.head(n=1000).plot(kind='hist', subplots=True, layout=(2,2)) # , bins=100, sharex=False, \n",
    "# for pos,ax in enumerate(axes.flatten()):\n",
    "#     ax.set_xlim(diff_results_describe.loc['min'].iloc[pos], diff_results_describe.loc['max'].iloc[pos])\n",
    "#     ax.set(title=diff_results.columns[pos])"
   ]
  },
  {
   "cell_type": "markdown",
   "id": "6f4911a5",
   "metadata": {},
   "source": [
    "## Misc Checks for Other Files"
   ]
  },
  {
   "cell_type": "code",
   "execution_count": null,
   "id": "b671ce4b",
   "metadata": {},
   "outputs": [],
   "source": [
    "# Verify Target Conditions to Save\n",
    "import json\n",
    "\n",
    "with open(\"../target_conditions_to_save.json\", \"r\") as f:\n",
    "    target_conditions_to_save = json.load(f)\n",
    "\n",
    "condition_list = set(map(lambda x: x.split(\"_\")[1], target_conditions_to_save.keys()))\n",
    "\n",
    "target_conditions_to_save_new = {}\n",
    "for key, value in target_conditions_to_save.items():\n",
    "    condition = key.split(\"_\")[1]\n",
    "    if condition not in target_conditions_to_save_new:\n",
    "        target_conditions_to_save_new[condition] = value\n",
    "    else:\n",
    "        assert target_conditions_to_save_new[condition] == value\n"
   ]
  },
  {
   "cell_type": "code",
   "execution_count": null,
   "id": "37da93ec",
   "metadata": {},
   "outputs": [],
   "source": [
    "# Validate that existing control cells ids exist in data\n",
    "skipped_conditions = []\n",
    "# Convert index to set for O(1) lookup instead of O(n) for each check\n",
    "index_set = set(adata_filtered.obs.index.values)\n",
    "for key, values in control_cells_ids.items():\n",
    "    if key not in adata_filtered.obs.condition:\n",
    "        skipped_conditions.append(key)\n",
    "    else:\n",
    "        assert all(x in index_set for x in values), f\"{values} not in {adata_filtered.obs.index.values}\"\n",
    "\n",
    "print(f\"Skipped conditions: {skipped_conditions}\")\n"
   ]
  },
  {
   "cell_type": "code",
   "execution_count": null,
   "id": "09c54c0e",
   "metadata": {},
   "outputs": [],
   "source": []
  }
 ],
 "metadata": {
  "kernelspec": {
   "display_name": "Python 3 (ipykernel)",
   "language": "python",
   "name": "python3"
  },
  "language_info": {
   "codemirror_mode": {
    "name": "ipython",
    "version": 3
   },
   "file_extension": ".py",
   "mimetype": "text/x-python",
   "name": "python",
   "nbconvert_exporter": "python",
   "pygments_lexer": "ipython3",
   "version": "3.12.7"
  }
 },
 "nbformat": 4,
 "nbformat_minor": 5
}
