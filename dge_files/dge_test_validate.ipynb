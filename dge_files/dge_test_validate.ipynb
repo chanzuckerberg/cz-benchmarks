{
 "cells": [
  {
   "cell_type": "code",
   "execution_count": null,
   "id": "9456e9af-86e0-4589-8702-1356e27dff66",
   "metadata": {},
   "outputs": [],
   "source": [
    "! uv pip install pyarrow"
   ]
  },
  {
   "cell_type": "code",
   "execution_count": 1,
   "id": "e5ec69c8",
   "metadata": {},
   "outputs": [],
   "source": [
    "# %reload_ext autoreload\n",
    "# %autoreload 2\n",
    "# %aimport czbenchmarks.datasets.utils_single_cell\n",
    "import czbenchmarks.datasets.utils_single_cell as scp\n",
    "\n",
    "import os\n",
    "import scanpy as sc\n",
    "import pandas as pd\n",
    "import anndata as ad\n",
    "import numpy as np\n",
    "from pandas.testing import assert_frame_equal\n",
    "import matplotlib.pyplot as plt"
   ]
  },
  {
   "cell_type": "code",
   "execution_count": 2,
   "id": "c766f77d-87a4-4d5e-b55b-3f49ccb5efe6",
   "metadata": {},
   "outputs": [],
   "source": [
    "deg_name = 'wilcoxon'"
   ]
  },
  {
   "cell_type": "markdown",
   "id": "c683549d-e3e3-4717-bc17-87ae43beb978",
   "metadata": {},
   "source": [
    "## Load Data"
   ]
  },
  {
   "cell_type": "code",
   "execution_count": 3,
   "id": "77056d83",
   "metadata": {},
   "outputs": [],
   "source": [
    "filtered_data_path = f\"{os.environ['HOME']}/.cz-benchmarks/datasets/replogle_k562_essential_perturbpredict_de_results_control_cells.h5ad\"\n",
    "# filtered_data_path = \"/data2/czbenchmarks/replogle2022/K562_essential_raw_singlecell_01.h5ad\"\n",
    "adata_filtered = ad.read_h5ad(filtered_data_path, backed=None)"
   ]
  },
  {
   "cell_type": "code",
   "execution_count": 4,
   "id": "0c478f00-1b3a-4a9b-a03f-60c079509ea0",
   "metadata": {},
   "outputs": [
    {
     "data": {
      "text/plain": [
       "array([], dtype=float64)"
      ]
     },
     "execution_count": 4,
     "metadata": {},
     "output_type": "execute_result"
    }
   ],
   "source": [
    "de_results = pd.DataFrame(adata_filtered.uns[f\"de_results_{deg_name}\"])\n",
    "# de_results['condition'] = de_results['condition'].cat.remove_unused_categories()\n",
    "de_results['condition'] = de_results['condition'].astype(str)\n",
    "\n",
    "control_cells_ids = adata_filtered.uns[\"control_cells_ids\"]\n",
    "control_cells_ids.pop(\"non-targeting\", None)"
   ]
  },
  {
   "cell_type": "code",
   "execution_count": 5,
   "id": "dc68011d",
   "metadata": {},
   "outputs": [],
   "source": [
    "cr4_data_path = (\n",
    "    \"/data2/czbenchmarks/replogle2022/raw_h5ad_from_cr4/K562_essential_mtx.h5ad\"\n",
    ")\n",
    "adata_cr4 = ad.read_h5ad(cr4_data_path, backed=None)\n",
    "adata_cr4.var.index.name = \"gene_id\"\n",
    "adata_cr4.var.rename(columns={\"gene_name\": \"gene\"}, inplace=True)\n",
    "adata_cr4.obs.rename(columns={\"gene_id\": \"condition\"}, inplace=True)"
   ]
  },
  {
   "cell_type": "markdown",
   "id": "74f62005-792a-46d8-872d-0b8d74c090c7",
   "metadata": {},
   "source": [
    "## Compare Keys and Shapes"
   ]
  },
  {
   "cell_type": "code",
   "execution_count": 6,
   "id": "8799bf83",
   "metadata": {},
   "outputs": [
    {
     "data": {
      "text/plain": [
       "((310385, 32628), (310385, 8563), (20793007, 7))"
      ]
     },
     "execution_count": 6,
     "metadata": {},
     "output_type": "execute_result"
    }
   ],
   "source": [
    "adata_cr4.shape, adata_filtered.shape, de_results.shape"
   ]
  },
  {
   "cell_type": "code",
   "execution_count": 7,
   "id": "30429ad0",
   "metadata": {},
   "outputs": [
    {
     "name": "stdout",
     "output_type": "stream",
     "text": [
      "wilcoxon\n",
      "{'non-targeting'}\n",
      "set()\n"
     ]
    }
   ],
   "source": [
    "# The only missing condition is non-targeting (i.e. the control)\n",
    "print(deg_name)\n",
    "print(\n",
    "    set(adata_filtered.obs.condition.unique())\n",
    "    - set(de_results.condition.unique())\n",
    ")\n",
    "print(\n",
    "    set(de_results.condition.unique())\n",
    "    - set(adata_filtered.obs.condition.unique())\n",
    ")"
   ]
  },
  {
   "cell_type": "markdown",
   "id": "af539c1e-d5c7-4f98-9197-6f6a0471aa90",
   "metadata": {},
   "source": [
    "## Run DGE Analysis"
   ]
  },
  {
   "cell_type": "code",
   "execution_count": 9,
   "id": "fc8cea78",
   "metadata": {},
   "outputs": [
    {
     "name": "stdout",
     "output_type": "stream",
     "text": [
      "wilcoxon\n"
     ]
    },
    {
     "name": "stderr",
     "output_type": "stream",
     "text": [
      "Processing de conditions: 100%|██████████████████████████████████████████████████████████████| 2057/2057 [07:14<00:00,  4.74item/s, Completed 2057/2057]\n"
     ]
    }
   ],
   "source": [
    "print(deg_name)\n",
    "# num_conditions = 10\n",
    "# condition_list = np.asarray(list(control_cells_ids.keys()))\n",
    "# condition_list = np.random.choice(condition_list, size=num_conditions, replace=False)\n",
    "# new_control_cells_ids = {k: control_cells_ids[k] for k in condition_list}\n",
    "new_control_cells_ids = control_cells_ids \n",
    "min_pert_cells=1 # 1, 50\n",
    "\n",
    "results = scp.run_multicondition_dge_analysis(\n",
    "    adata=adata_cr4,\n",
    "    condition_key=\"condition\",\n",
    "    control_name=\"non-targeting\",\n",
    "    control_cells_ids=new_control_cells_ids,\n",
    "    deg_test_name=deg_name,\n",
    "    filter_min_cells=10,  # 0, 10\n",
    "    filter_min_genes=10,  # 0, 1000\n",
    "    min_pert_cells=min_pert_cells,  # 1, 50\n",
    "    remove_avg_zeros=False,\n",
    "    return_merged_adata=False,\n",
    ")\n",
    "\n",
    "results.to_parquet(f\"/data2/compare_de_results_{deg_name}_min_pert_cells_{min_pert_cells}.arrow\")\n",
    "\n"
   ]
  },
  {
   "cell_type": "markdown",
   "id": "7be8967e-239c-410f-b84c-36c7b56ce235",
   "metadata": {},
   "source": [
    "## Or load from disk"
   ]
  },
  {
   "cell_type": "code",
   "execution_count": 11,
   "id": "53a6bade-db43-4c2d-abce-833b74dbf434",
   "metadata": {},
   "outputs": [],
   "source": [
    "# results = pd.read_parquet(f\"/data2/compare_de_results_{deg_name}.arrow\")"
   ]
  },
  {
   "cell_type": "code",
   "execution_count": 12,
   "id": "de6d1cc1",
   "metadata": {},
   "outputs": [
    {
     "name": "stdout",
     "output_type": "stream",
     "text": [
      "wilcoxon (20793007, 6) (20793007, 7)\n"
     ]
    }
   ],
   "source": [
    "print(deg_name, results.shape, de_results.shape)"
   ]
  },
  {
   "cell_type": "code",
   "execution_count": 13,
   "id": "6d570ef4-f685-499f-b749-ebbbbefb1270",
   "metadata": {},
   "outputs": [
    {
     "data": {
      "text/plain": [
       "67115796"
      ]
     },
     "execution_count": 13,
     "metadata": {},
     "output_type": "execute_result"
    }
   ],
   "source": [
    "32628 * 2057"
   ]
  },
  {
   "cell_type": "markdown",
   "id": "6f27adde-0bf2-421a-9e34-c59abd5c1c90",
   "metadata": {},
   "source": [
    "## Define Intersection / Unique Sets"
   ]
  },
  {
   "cell_type": "code",
   "execution_count": 14,
   "id": "4bddeb88-0528-4c3e-b41e-230e63690ecc",
   "metadata": {},
   "outputs": [
    {
     "name": "stdout",
     "output_type": "stream",
     "text": [
      "(20793007, 7) (20793007, 8)\n",
      "condition 2057 2057\n",
      "gene_id 15730 15730\n",
      "20793007 20793007\n"
     ]
    }
   ],
   "source": [
    "# Create a column with condition / gene_id to filter the data for similarity\n",
    "def zip_names(df):\n",
    "    condition = df['condition'].astype(str).values\n",
    "    gene_id = df['gene_id'].astype(str).values\n",
    "    mapper = list(map(lambda x: '_'.join([x[0], x[1]]), zip(condition, gene_id)))\n",
    "    return mapper\n",
    "\n",
    "results['mapper'] = zip_names(results)\n",
    "de_results['mapper'] = zip_names(de_results)\n",
    "\n",
    "print(results.shape, de_results.shape)\n",
    "print(\"condition\", results['condition'].nunique(), de_results['condition'].nunique())\n",
    "print(\"gene_id\", results['gene_id'].nunique(), de_results['gene_id'].nunique())\n",
    "print(len(results['mapper']), len(de_results['mapper']))"
   ]
  },
  {
   "cell_type": "code",
   "execution_count": 15,
   "id": "9c0eaa4a-f840-40eb-a513-071e08d084c4",
   "metadata": {},
   "outputs": [
    {
     "name": "stdout",
     "output_type": "stream",
     "text": [
      "True\n",
      "True\n"
     ]
    }
   ],
   "source": [
    "# All generated condition/gene pairs are a part of the previous generated condition/gene pairs\n",
    "print(set(results['mapper']).issubset(set(de_results['mapper'])))\n",
    "print(set(results['condition']).issubset(set(de_results['condition'])))"
   ]
  },
  {
   "cell_type": "code",
   "execution_count": 16,
   "id": "a81eaf15-5fbb-4691-a499-6b340090e7af",
   "metadata": {},
   "outputs": [
    {
     "name": "stdout",
     "output_type": "stream",
     "text": [
      "0 20793007\n",
      "0 2057\n"
     ]
    }
   ],
   "source": [
    "unique_condition_gene_pairs = list(set(de_results['mapper']) - set(results['mapper']))\n",
    "shared_condition_gene_pairs = list(set(de_results['mapper']).intersection(set(results['mapper'])))\n",
    "\n",
    "unique_conditions = list(set(de_results['condition']) - set(results['condition']))\n",
    "shared_conditions = list(set(de_results['condition']).intersection(set(results['condition'])))\n",
    "\n",
    "print(len(unique_condition_gene_pairs), len(shared_condition_gene_pairs))\n",
    "print(len(unique_conditions), len(shared_conditions))"
   ]
  },
  {
   "cell_type": "code",
   "execution_count": 17,
   "id": "b2b89818-164e-439c-9ded-e8c7efe8e597",
   "metadata": {},
   "outputs": [],
   "source": [
    "import json\n",
    "with open(f\"/data2/unique_conditions_{deg_name}.json\", 'w') as fh:\n",
    "    json.dump(unique_conditions, fh)"
   ]
  },
  {
   "cell_type": "code",
   "execution_count": 18,
   "id": "b7b3371b-e46a-4db7-9725-ed109377819d",
   "metadata": {},
   "outputs": [
    {
     "name": "stdout",
     "output_type": "stream",
     "text": [
      "0\n"
     ]
    }
   ],
   "source": [
    "unique_condition_gene_df = pd.DataFrame(map(lambda x: x.split('_'), unique_condition_gene_pairs))\n",
    "if unique_condition_gene_df.shape[1] > 0:\n",
    "    unique_condition_gene_df.columns = ['condition', 'gene_id']\n",
    "\n",
    "print(len(unique_condition_gene_df))\n",
    "if len(unique_condition_gene_df) > 0:\n",
    "    unique_condition_gene_df.head()\n",
    "else:\n",
    "    unique_condition_gene_df = None"
   ]
  },
  {
   "cell_type": "code",
   "execution_count": 19,
   "id": "6d13b6a2-8292-4050-b3d9-b653d6887eb9",
   "metadata": {},
   "outputs": [],
   "source": [
    "common_columns = sorted(set(de_results.columns).intersection(results.columns))\n",
    "de_columns = [c for c in de_results.columns if c not in common_columns]\n",
    "r_columns  = [c for c in results.columns if c not in common_columns]"
   ]
  },
  {
   "cell_type": "code",
   "execution_count": 20,
   "id": "d39bcc1d-1f44-4ebb-9c6b-257232b778e7",
   "metadata": {},
   "outputs": [],
   "source": [
    "s_de_results = de_results[common_columns].set_index('mapper').loc[shared_condition_gene_pairs]\n",
    "s_results = results[common_columns].set_index('mapper').loc[shared_condition_gene_pairs]"
   ]
  },
  {
   "cell_type": "markdown",
   "id": "285aa7c4-8f05-4bae-9575-18611a59a825",
   "metadata": {},
   "source": [
    "## Examine Differences"
   ]
  },
  {
   "cell_type": "code",
   "execution_count": 21,
   "id": "c71d173a-0b16-424f-91f7-50adfd152bd4",
   "metadata": {},
   "outputs": [
    {
     "data": {
      "text/html": [
       "<div>\n",
       "<style scoped>\n",
       "    .dataframe tbody tr th:only-of-type {\n",
       "        vertical-align: middle;\n",
       "    }\n",
       "\n",
       "    .dataframe tbody tr th {\n",
       "        vertical-align: top;\n",
       "    }\n",
       "\n",
       "    .dataframe thead th {\n",
       "        text-align: right;\n",
       "    }\n",
       "</style>\n",
       "<table border=\"1\" class=\"dataframe\">\n",
       "  <thead>\n",
       "    <tr style=\"text-align: right;\">\n",
       "      <th></th>\n",
       "      <th>gene_id</th>\n",
       "      <th>condition_name</th>\n",
       "      <th>score</th>\n",
       "      <th>logfoldchange</th>\n",
       "      <th>pval</th>\n",
       "      <th>pval_adj</th>\n",
       "      <th>mapper</th>\n",
       "    </tr>\n",
       "  </thead>\n",
       "  <tbody>\n",
       "    <tr>\n",
       "      <th>count</th>\n",
       "      <td>0.0</td>\n",
       "      <td>0.0</td>\n",
       "      <td>0.0</td>\n",
       "      <td>0.0</td>\n",
       "      <td>0.0</td>\n",
       "      <td>0.0</td>\n",
       "      <td>0.0</td>\n",
       "    </tr>\n",
       "    <tr>\n",
       "      <th>mean</th>\n",
       "      <td>NaN</td>\n",
       "      <td>NaN</td>\n",
       "      <td>NaN</td>\n",
       "      <td>NaN</td>\n",
       "      <td>NaN</td>\n",
       "      <td>NaN</td>\n",
       "      <td>NaN</td>\n",
       "    </tr>\n",
       "    <tr>\n",
       "      <th>std</th>\n",
       "      <td>NaN</td>\n",
       "      <td>NaN</td>\n",
       "      <td>NaN</td>\n",
       "      <td>NaN</td>\n",
       "      <td>NaN</td>\n",
       "      <td>NaN</td>\n",
       "      <td>NaN</td>\n",
       "    </tr>\n",
       "    <tr>\n",
       "      <th>min</th>\n",
       "      <td>NaN</td>\n",
       "      <td>NaN</td>\n",
       "      <td>NaN</td>\n",
       "      <td>NaN</td>\n",
       "      <td>NaN</td>\n",
       "      <td>NaN</td>\n",
       "      <td>NaN</td>\n",
       "    </tr>\n",
       "    <tr>\n",
       "      <th>25%</th>\n",
       "      <td>NaN</td>\n",
       "      <td>NaN</td>\n",
       "      <td>NaN</td>\n",
       "      <td>NaN</td>\n",
       "      <td>NaN</td>\n",
       "      <td>NaN</td>\n",
       "      <td>NaN</td>\n",
       "    </tr>\n",
       "    <tr>\n",
       "      <th>50%</th>\n",
       "      <td>NaN</td>\n",
       "      <td>NaN</td>\n",
       "      <td>NaN</td>\n",
       "      <td>NaN</td>\n",
       "      <td>NaN</td>\n",
       "      <td>NaN</td>\n",
       "      <td>NaN</td>\n",
       "    </tr>\n",
       "    <tr>\n",
       "      <th>75%</th>\n",
       "      <td>NaN</td>\n",
       "      <td>NaN</td>\n",
       "      <td>NaN</td>\n",
       "      <td>NaN</td>\n",
       "      <td>NaN</td>\n",
       "      <td>NaN</td>\n",
       "      <td>NaN</td>\n",
       "    </tr>\n",
       "    <tr>\n",
       "      <th>max</th>\n",
       "      <td>NaN</td>\n",
       "      <td>NaN</td>\n",
       "      <td>NaN</td>\n",
       "      <td>NaN</td>\n",
       "      <td>NaN</td>\n",
       "      <td>NaN</td>\n",
       "      <td>NaN</td>\n",
       "    </tr>\n",
       "  </tbody>\n",
       "</table>\n",
       "</div>"
      ],
      "text/plain": [
       "       gene_id  condition_name  score  logfoldchange  pval  pval_adj  mapper\n",
       "count      0.0             0.0    0.0            0.0   0.0       0.0     0.0\n",
       "mean       NaN             NaN    NaN            NaN   NaN       NaN     NaN\n",
       "std        NaN             NaN    NaN            NaN   NaN       NaN     NaN\n",
       "min        NaN             NaN    NaN            NaN   NaN       NaN     NaN\n",
       "25%        NaN             NaN    NaN            NaN   NaN       NaN     NaN\n",
       "50%        NaN             NaN    NaN            NaN   NaN       NaN     NaN\n",
       "75%        NaN             NaN    NaN            NaN   NaN       NaN     NaN\n",
       "max        NaN             NaN    NaN            NaN   NaN       NaN     NaN"
      ]
     },
     "execution_count": 21,
     "metadata": {},
     "output_type": "execute_result"
    }
   ],
   "source": [
    "de_results_unique_counts = (\n",
    "    de_results\n",
    "        .set_index('condition')\n",
    "        .loc[unique_conditions]\n",
    "        .groupby(level=0)\n",
    "        .count()\n",
    "        .describe()\n",
    ")\n",
    "de_results_unique_counts"
   ]
  },
  {
   "cell_type": "markdown",
   "id": "40b1c76f-6119-41cf-b10b-9eabef217baa",
   "metadata": {},
   "source": [
    "## Compare Common Conditions / Gene IDs"
   ]
  },
  {
   "cell_type": "code",
   "execution_count": 22,
   "id": "a9068147-36d7-45fd-b573-0b54d24cf18e",
   "metadata": {},
   "outputs": [
    {
     "name": "stdout",
     "output_type": "stream",
     "text": [
      "                                       condition          gene_id  logfoldchange      pval  pval_adj     score\n",
      "mapper                                                                                                        \n",
      "ENSG00000183751_ENSG00000171943  ENSG00000183751  ENSG00000171943       1.258297  0.575445  0.999036  0.560050\n",
      "ENSG00000105669_ENSG00000079999  ENSG00000105669  ENSG00000079999       0.440239  0.065199  0.999619  1.843890\n",
      "ENSG00000161057_ENSG00000143624  ENSG00000161057  ENSG00000143624      -0.276767  0.379470  1.000000 -0.878874\n",
      "ENSG00000165119_ENSG00000170515  ENSG00000165119  ENSG00000170515      -0.404464  0.006042  0.303681 -2.745503\n",
      "ENSG00000130520_ENSG00000069275  ENSG00000130520  ENSG00000069275       0.135674  0.587505  0.998868  0.542455\n",
      "                                       condition          gene_id  logfoldchange      pval  pval_adj     score\n",
      "mapper                                                                                                        \n",
      "ENSG00000183751_ENSG00000171943  ENSG00000183751  ENSG00000171943       1.258297  0.575445  0.999036  0.560050\n",
      "ENSG00000105669_ENSG00000079999  ENSG00000105669  ENSG00000079999       0.440239  0.065199  0.999619  1.843890\n",
      "ENSG00000161057_ENSG00000143624  ENSG00000161057  ENSG00000143624      -0.276767  0.379470  1.000000 -0.878874\n",
      "ENSG00000165119_ENSG00000170515  ENSG00000165119  ENSG00000170515      -0.404464  0.006042  0.303681 -2.745503\n",
      "ENSG00000130520_ENSG00000069275  ENSG00000130520  ENSG00000069275       0.135674  0.587505  0.998868  0.542455\n"
     ]
    }
   ],
   "source": [
    "  with pd.option_context('display.width', 10000, 'display.max_columns', 100):\n",
    "    print(s_de_results.head())\n",
    "    print(s_results.head())"
   ]
  },
  {
   "cell_type": "code",
   "execution_count": 23,
   "id": "e3ad725e-76a0-4f36-b4e8-cdda1eba5680",
   "metadata": {},
   "outputs": [
    {
     "name": "stdout",
     "output_type": "stream",
     "text": [
      "condition\n",
      "ENSG00000001497     9889\n",
      "ENSG00000003509     5410\n",
      "ENSG00000004779    10746\n",
      "ENSG00000004897    12173\n",
      "ENSG00000005007    10546\n",
      "Name: gene_id, dtype: int64\n",
      "condition\n",
      "ENSG00000001497     9889\n",
      "ENSG00000003509     5410\n",
      "ENSG00000004779    10746\n",
      "ENSG00000004897    12173\n",
      "ENSG00000005007    10546\n",
      "Name: gene_id, dtype: int64\n"
     ]
    }
   ],
   "source": [
    "s_de_results_counts = (\n",
    "    s_de_results\n",
    "        .set_index('condition')\n",
    "        ['gene_id']\n",
    "        .groupby(level=0)\n",
    "        .count()\n",
    ")\n",
    "\n",
    "s_results_counts = (\n",
    "    s_results\n",
    "        .set_index('condition')\n",
    "        ['gene_id']\n",
    "        .groupby(level=0)\n",
    "        .count()\n",
    ")\n",
    "\n",
    "print(s_de_results_counts.head())\n",
    "print(s_results_counts.head())"
   ]
  },
  {
   "cell_type": "code",
   "execution_count": 24,
   "id": "93bd148b",
   "metadata": {},
   "outputs": [
    {
     "name": "stdout",
     "output_type": "stream",
     "text": [
      "None\n"
     ]
    }
   ],
   "source": [
    "print(assert_frame_equal(\n",
    "    s_de_results_counts.to_frame(),\n",
    "    s_results_counts.to_frame(),\n",
    "))"
   ]
  },
  {
   "cell_type": "code",
   "execution_count": 25,
   "id": "4f92f0a2",
   "metadata": {
    "scrolled": true
   },
   "outputs": [],
   "source": [
    "assert_frame_equal(\n",
    "    s_de_results,\n",
    "    s_results,\n",
    "    check_dtype=False,\n",
    "    check_index_type=False,\n",
    "    check_categorical=False,\n",
    "    atol=1.5e-2\n",
    ")"
   ]
  },
  {
   "cell_type": "code",
   "execution_count": 26,
   "id": "d9aed3ad-a961-4fd2-a57f-35b8670a3af0",
   "metadata": {},
   "outputs": [
    {
     "data": {
      "text/html": [
       "<div>\n",
       "<style scoped>\n",
       "    .dataframe tbody tr th:only-of-type {\n",
       "        vertical-align: middle;\n",
       "    }\n",
       "\n",
       "    .dataframe tbody tr th {\n",
       "        vertical-align: top;\n",
       "    }\n",
       "\n",
       "    .dataframe thead th {\n",
       "        text-align: right;\n",
       "    }\n",
       "</style>\n",
       "<table border=\"1\" class=\"dataframe\">\n",
       "  <thead>\n",
       "    <tr style=\"text-align: right;\">\n",
       "      <th></th>\n",
       "      <th>logfoldchange</th>\n",
       "      <th>pval</th>\n",
       "      <th>pval_adj</th>\n",
       "      <th>score</th>\n",
       "    </tr>\n",
       "    <tr>\n",
       "      <th>mapper</th>\n",
       "      <th></th>\n",
       "      <th></th>\n",
       "      <th></th>\n",
       "      <th></th>\n",
       "    </tr>\n",
       "  </thead>\n",
       "  <tbody>\n",
       "    <tr>\n",
       "      <th>ENSG00000183751_ENSG00000171943</th>\n",
       "      <td>-4.734344e-08</td>\n",
       "      <td>0.000000e+00</td>\n",
       "      <td>-1.110223e-16</td>\n",
       "      <td>-2.791367e-08</td>\n",
       "    </tr>\n",
       "    <tr>\n",
       "      <th>ENSG00000105669_ENSG00000079999</th>\n",
       "      <td>-2.636719e-09</td>\n",
       "      <td>-5.551115e-17</td>\n",
       "      <td>1.110223e-16</td>\n",
       "      <td>4.829407e-08</td>\n",
       "    </tr>\n",
       "    <tr>\n",
       "      <th>ENSG00000161057_ENSG00000143624</th>\n",
       "      <td>-4.740524e-09</td>\n",
       "      <td>-5.551115e-17</td>\n",
       "      <td>0.000000e+00</td>\n",
       "      <td>-4.531403e-09</td>\n",
       "    </tr>\n",
       "    <tr>\n",
       "      <th>ENSG00000165119_ENSG00000170515</th>\n",
       "      <td>-4.959793e-09</td>\n",
       "      <td>-9.801188e-17</td>\n",
       "      <td>-5.551115e-17</td>\n",
       "      <td>-1.282043e-08</td>\n",
       "    </tr>\n",
       "    <tr>\n",
       "      <th>ENSG00000130520_ENSG00000069275</th>\n",
       "      <td>-1.765270e-08</td>\n",
       "      <td>0.000000e+00</td>\n",
       "      <td>0.000000e+00</td>\n",
       "      <td>5.596161e-09</td>\n",
       "    </tr>\n",
       "  </tbody>\n",
       "</table>\n",
       "</div>"
      ],
      "text/plain": [
       "                                 logfoldchange          pval      pval_adj  \\\n",
       "mapper                                                                       \n",
       "ENSG00000183751_ENSG00000171943  -4.734344e-08  0.000000e+00 -1.110223e-16   \n",
       "ENSG00000105669_ENSG00000079999  -2.636719e-09 -5.551115e-17  1.110223e-16   \n",
       "ENSG00000161057_ENSG00000143624  -4.740524e-09 -5.551115e-17  0.000000e+00   \n",
       "ENSG00000165119_ENSG00000170515  -4.959793e-09 -9.801188e-17 -5.551115e-17   \n",
       "ENSG00000130520_ENSG00000069275  -1.765270e-08  0.000000e+00  0.000000e+00   \n",
       "\n",
       "                                        score  \n",
       "mapper                                         \n",
       "ENSG00000183751_ENSG00000171943 -2.791367e-08  \n",
       "ENSG00000105669_ENSG00000079999  4.829407e-08  \n",
       "ENSG00000161057_ENSG00000143624 -4.531403e-09  \n",
       "ENSG00000165119_ENSG00000170515 -1.282043e-08  \n",
       "ENSG00000130520_ENSG00000069275  5.596161e-09  "
      ]
     },
     "execution_count": 26,
     "metadata": {},
     "output_type": "execute_result"
    }
   ],
   "source": [
    "diff_columns = ['logfoldchange', 'pval', 'pval_adj', 'score']\n",
    "diff_results = (\n",
    "    s_de_results[diff_columns] -\n",
    "    s_results[diff_columns]\n",
    ")\n",
    "diff_results.head()"
   ]
  },
  {
   "cell_type": "code",
   "execution_count": 27,
   "id": "04656813-349b-4217-b478-7b343cd79479",
   "metadata": {},
   "outputs": [
    {
     "data": {
      "text/html": [
       "<div>\n",
       "<style scoped>\n",
       "    .dataframe tbody tr th:only-of-type {\n",
       "        vertical-align: middle;\n",
       "    }\n",
       "\n",
       "    .dataframe tbody tr th {\n",
       "        vertical-align: top;\n",
       "    }\n",
       "\n",
       "    .dataframe thead th {\n",
       "        text-align: right;\n",
       "    }\n",
       "</style>\n",
       "<table border=\"1\" class=\"dataframe\">\n",
       "  <thead>\n",
       "    <tr style=\"text-align: right;\">\n",
       "      <th></th>\n",
       "      <th>logfoldchange</th>\n",
       "      <th>pval</th>\n",
       "      <th>pval_adj</th>\n",
       "      <th>score</th>\n",
       "    </tr>\n",
       "  </thead>\n",
       "  <tbody>\n",
       "    <tr>\n",
       "      <th>count</th>\n",
       "      <td>2.079301e+07</td>\n",
       "      <td>2.079301e+07</td>\n",
       "      <td>2.079301e+07</td>\n",
       "      <td>2.079301e+07</td>\n",
       "    </tr>\n",
       "    <tr>\n",
       "      <th>mean</th>\n",
       "      <td>1.824320e-10</td>\n",
       "      <td>-2.012767e-10</td>\n",
       "      <td>5.008864e-08</td>\n",
       "      <td>-8.381522e-08</td>\n",
       "    </tr>\n",
       "    <tr>\n",
       "      <th>std</th>\n",
       "      <td>2.320684e-08</td>\n",
       "      <td>1.877916e-05</td>\n",
       "      <td>1.068245e-05</td>\n",
       "      <td>3.209338e-05</td>\n",
       "    </tr>\n",
       "    <tr>\n",
       "      <th>min</th>\n",
       "      <td>-2.393188e-06</td>\n",
       "      <td>-1.079110e-02</td>\n",
       "      <td>-8.414247e-03</td>\n",
       "      <td>-1.352514e-02</td>\n",
       "    </tr>\n",
       "    <tr>\n",
       "      <th>25%</th>\n",
       "      <td>-5.721750e-09</td>\n",
       "      <td>-2.775558e-17</td>\n",
       "      <td>0.000000e+00</td>\n",
       "      <td>-4.035454e-09</td>\n",
       "    </tr>\n",
       "    <tr>\n",
       "      <th>50%</th>\n",
       "      <td>3.408103e-11</td>\n",
       "      <td>0.000000e+00</td>\n",
       "      <td>0.000000e+00</td>\n",
       "      <td>0.000000e+00</td>\n",
       "    </tr>\n",
       "    <tr>\n",
       "      <th>75%</th>\n",
       "      <td>6.207275e-09</td>\n",
       "      <td>0.000000e+00</td>\n",
       "      <td>0.000000e+00</td>\n",
       "      <td>4.033089e-09</td>\n",
       "    </tr>\n",
       "    <tr>\n",
       "      <th>max</th>\n",
       "      <td>2.273804e-06</td>\n",
       "      <td>1.074972e-02</td>\n",
       "      <td>4.952018e-03</td>\n",
       "      <td>6.713547e-03</td>\n",
       "    </tr>\n",
       "  </tbody>\n",
       "</table>\n",
       "</div>"
      ],
      "text/plain": [
       "       logfoldchange          pval      pval_adj         score\n",
       "count   2.079301e+07  2.079301e+07  2.079301e+07  2.079301e+07\n",
       "mean    1.824320e-10 -2.012767e-10  5.008864e-08 -8.381522e-08\n",
       "std     2.320684e-08  1.877916e-05  1.068245e-05  3.209338e-05\n",
       "min    -2.393188e-06 -1.079110e-02 -8.414247e-03 -1.352514e-02\n",
       "25%    -5.721750e-09 -2.775558e-17  0.000000e+00 -4.035454e-09\n",
       "50%     3.408103e-11  0.000000e+00  0.000000e+00  0.000000e+00\n",
       "75%     6.207275e-09  0.000000e+00  0.000000e+00  4.033089e-09\n",
       "max     2.273804e-06  1.074972e-02  4.952018e-03  6.713547e-03"
      ]
     },
     "execution_count": 27,
     "metadata": {},
     "output_type": "execute_result"
    }
   ],
   "source": [
    "diff_results_describe = diff_results.describe()\n",
    "diff_results_describe"
   ]
  },
  {
   "cell_type": "code",
   "execution_count": 28,
   "id": "a6537bba-292b-4a86-a367-7949d6b54126",
   "metadata": {},
   "outputs": [
    {
     "data": {
      "image/png": "[encoded data removed]",
      "text/plain": [
       "<Figure size 640x480 with 4 Axes>"
      ]
     },
     "metadata": {},
     "output_type": "display_data"
    }
   ],
   "source": [
    "axes = diff_results.head(n=1000).plot(kind='hist', subplots=True, layout=(2,2)) # , bins=100, sharex=False, \n",
    "# for pos,ax in enumerate(axes.flatten()):\n",
    "#     ax.set_xlim(diff_results_describe.loc['min'].iloc[pos], diff_results_describe.loc['max'].iloc[pos])\n",
    "#     ax.set(title=diff_results.columns[pos])"
   ]
  },
  {
   "cell_type": "markdown",
   "id": "6f4911a5",
   "metadata": {},
   "source": [
    "## Misc Checks for Other Files"
   ]
  },
  {
   "cell_type": "code",
   "execution_count": null,
   "id": "b671ce4b",
   "metadata": {},
   "outputs": [],
   "source": [
    "# Verify Target Conditions to Save\n",
    "import json\n",
    "\n",
    "with open(\"../target_conditions_to_save.json\", \"r\") as f:\n",
    "    target_conditions_to_save = json.load(f)\n",
    "\n",
    "condition_list = set(map(lambda x: x.split(\"_\")[1], target_conditions_to_save.keys()))\n",
    "\n",
    "target_conditions_to_save_new = {}\n",
    "for key, value in target_conditions_to_save.items():\n",
    "    condition = key.split(\"_\")[1]\n",
    "    if condition not in target_conditions_to_save_new:\n",
    "        target_conditions_to_save_new[condition] = value\n",
    "    else:\n",
    "        assert target_conditions_to_save_new[condition] == value\n"
   ]
  },
  {
   "cell_type": "code",
   "execution_count": null,
   "id": "37da93ec",
   "metadata": {},
   "outputs": [],
   "source": [
    "# Validate that existing control cells ids exist in data\n",
    "skipped_conditions = []\n",
    "# Convert index to set for O(1) lookup instead of O(n) for each check\n",
    "index_set = set(adata_filtered.obs.index.values)\n",
    "for key, values in control_cells_ids.items():\n",
    "    if key not in adata_filtered.obs.condition:\n",
    "        skipped_conditions.append(key)\n",
    "    else:\n",
    "        assert all(x in index_set for x in values), f\"{values} not in {adata_filtered.obs.index.values}\"\n",
    "\n",
    "print(f\"Skipped conditions: {skipped_conditions}\")\n"
   ]
  },
  {
   "cell_type": "code",
   "execution_count": null,
   "id": "09c54c0e",
   "metadata": {},
   "outputs": [],
   "source": []
  }
 ],
 "metadata": {
  "kernelspec": {
   "display_name": "Python 3 (ipykernel)",
   "language": "python",
   "name": "python3"
  },
  "language_info": {
   "codemirror_mode": {
    "name": "ipython",
    "version": 3
   },
   "file_extension": ".py",
   "mimetype": "text/x-python",
   "name": "python",
   "nbconvert_exporter": "python",
   "pygments_lexer": "ipython3",
   "version": "3.12.7"
  }
 },
 "nbformat": 4,
 "nbformat_minor": 5
}
