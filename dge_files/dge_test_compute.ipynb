{
 "cells": [
  {
   "cell_type": "markdown",
   "id": "29584ff3-f7a7-4243-a947-75c543ef6646",
   "metadata": {},
   "source": [
    "Filtered Data from Authors: K562_essential_raw_singlecell_01.h5ad\n",
    "Unfiltered Data from Jasleen: K562_essential_mtx.h5ad\n",
    "\n"
   ]
  },
  {
   "cell_type": "code",
   "execution_count": 3,
   "id": "188a9a1b-e510-4b07-abb3-62d0934f01f5",
   "metadata": {},
   "outputs": [
    {
     "name": "stdout",
     "output_type": "stream",
     "text": [
      "\u001b[2mUsing Python 3.12.7 environment at: /home/mgill/code/cz-benchmarks/.venv\u001b[0m\n",
      "\u001b[2mAudited \u001b[1m1 package\u001b[0m \u001b[2min 6ms\u001b[0m\u001b[0m\n"
     ]
    }
   ],
   "source": [
    "! uv pip install pyarrow"
   ]
  },
  {
   "cell_type": "code",
   "execution_count": 1,
   "id": "e5ec69c8",
   "metadata": {},
   "outputs": [],
   "source": [
    "# %reload_ext autoreload\n",
    "# %autoreload 2\n",
    "# %aimport czbenchmarks.datasets.utils_single_cell\n",
    "import czbenchmarks.datasets.utils_single_cell as scp\n",
    "\n",
    "import os\n",
    "import scanpy as sc\n",
    "import pandas as pd\n",
    "import anndata as ad\n",
    "import numpy as np\n",
    "from pandas.testing import assert_frame_equal"
   ]
  },
  {
   "cell_type": "code",
   "execution_count": 2,
   "id": "3555878b-0bd3-48c0-98be-a414133f1824",
   "metadata": {},
   "outputs": [],
   "source": [
    "deg_name = 'wilcoxon'"
   ]
  },
  {
   "cell_type": "markdown",
   "id": "c683549d-e3e3-4717-bc17-87ae43beb978",
   "metadata": {},
   "source": [
    "## Load Data"
   ]
  },
  {
   "cell_type": "code",
   "execution_count": 24,
   "id": "77056d83",
   "metadata": {},
   "outputs": [
    {
     "data": {
      "text/plain": [
       "array([], dtype=float64)"
      ]
     },
     "execution_count": 24,
     "metadata": {},
     "output_type": "execute_result"
    }
   ],
   "source": [
    "filtered_data_path = f\"{os.environ['HOME']}/.cz-benchmarks/datasets/replogle_k562_essential_perturbpredict_de_results_control_cells.h5ad\"\n",
    "# filtered_data_path = \"/data2/czbenchmarks/replogle2022/K562_essential_raw_singlecell_01.h5ad\"\n",
    "adata_filtered = ad.read_h5ad(filtered_data_path, backed=None)\n",
    "\n",
    "control_cells_ids = adata_filtered.uns[\"control_cells_ids\"]\n",
    "control_cells_ids.pop(\"non-targeting\")"
   ]
  },
  {
   "cell_type": "code",
   "execution_count": 4,
   "id": "dc68011d",
   "metadata": {},
   "outputs": [],
   "source": [
    "# de_results = pd.DataFrame(adata_filtered.uns[\"de_results_wilcoxon\"])"
   ]
  },
  {
   "cell_type": "markdown",
   "id": "af539c1e-d5c7-4f98-9197-6f6a0471aa90",
   "metadata": {},
   "source": [
    "## Run DGE Analysis"
   ]
  },
  {
   "cell_type": "code",
   "execution_count": 6,
   "id": "fc8cea78",
   "metadata": {},
   "outputs": [
    {
     "name": "stdout",
     "output_type": "stream",
     "text": [
      "wilcoxon\n"
     ]
    },
    {
     "name": "stderr",
     "output_type": "stream",
     "text": [
      "Processing de conditions: 100%|██████████████████████████████████████████████████████████████| 2057/2057 [05:35<00:00,  6.14item/s, Completed 2057/2057]\n"
     ]
    }
   ],
   "source": [
    "print(deg_name)\n",
    "\n",
    "results = scp.run_multicondition_dge_analysis(\n",
    "    adata=adata_filtered,\n",
    "    condition_key=\"condition\",\n",
    "    control_name=\"non-targeting\",\n",
    "    control_cells_ids=control_cells_ids,\n",
    "    deg_test_name=deg_name,\n",
    "    filter_min_cells=0,  # 0, 10\n",
    "    filter_min_genes=0,  # 0, 1000\n",
    "    min_pert_cells=1,  # 1, 50\n",
    "    remove_avg_zeros=False,\n",
    "    return_merged_adata=False,\n",
    ")\n",
    "\n",
    "results.to_parquet(f\"/data2/compute_de_results_{deg_name}.arrow\")"
   ]
  },
  {
   "cell_type": "code",
   "execution_count": 7,
   "id": "7ed9e2cf-1c1b-4282-b17f-2bdcb620eec0",
   "metadata": {},
   "outputs": [
    {
     "data": {
      "text/html": [
       "<div>\n",
       "<style scoped>\n",
       "    .dataframe tbody tr th:only-of-type {\n",
       "        vertical-align: middle;\n",
       "    }\n",
       "\n",
       "    .dataframe tbody tr th {\n",
       "        vertical-align: top;\n",
       "    }\n",
       "\n",
       "    .dataframe thead th {\n",
       "        text-align: right;\n",
       "    }\n",
       "</style>\n",
       "<table border=\"1\" class=\"dataframe\">\n",
       "  <thead>\n",
       "    <tr style=\"text-align: right;\">\n",
       "      <th></th>\n",
       "      <th>condition</th>\n",
       "      <th>gene_id</th>\n",
       "      <th>score</th>\n",
       "      <th>logfoldchange</th>\n",
       "      <th>pval</th>\n",
       "      <th>pval_adj</th>\n",
       "    </tr>\n",
       "  </thead>\n",
       "  <tbody>\n",
       "    <tr>\n",
       "      <th>0</th>\n",
       "      <td>ENSG00000001497</td>\n",
       "      <td>ENSG00000112306</td>\n",
       "      <td>4.758876</td>\n",
       "      <td>0.262604</td>\n",
       "      <td>0.000002</td>\n",
       "      <td>0.002778</td>\n",
       "    </tr>\n",
       "    <tr>\n",
       "      <th>1</th>\n",
       "      <td>ENSG00000001497</td>\n",
       "      <td>ENSG00000265972</td>\n",
       "      <td>4.707202</td>\n",
       "      <td>1.077903</td>\n",
       "      <td>0.000003</td>\n",
       "      <td>0.003072</td>\n",
       "    </tr>\n",
       "    <tr>\n",
       "      <th>2</th>\n",
       "      <td>ENSG00000001497</td>\n",
       "      <td>ENSG00000187837</td>\n",
       "      <td>4.311571</td>\n",
       "      <td>0.915918</td>\n",
       "      <td>0.000016</td>\n",
       "      <td>0.012619</td>\n",
       "    </tr>\n",
       "    <tr>\n",
       "      <th>3</th>\n",
       "      <td>ENSG00000001497</td>\n",
       "      <td>ENSG00000196262</td>\n",
       "      <td>4.114563</td>\n",
       "      <td>0.257904</td>\n",
       "      <td>0.000039</td>\n",
       "      <td>0.025552</td>\n",
       "    </tr>\n",
       "    <tr>\n",
       "      <th>4</th>\n",
       "      <td>ENSG00000001497</td>\n",
       "      <td>ENSG00000084207</td>\n",
       "      <td>4.041896</td>\n",
       "      <td>0.344575</td>\n",
       "      <td>0.000053</td>\n",
       "      <td>0.028376</td>\n",
       "    </tr>\n",
       "  </tbody>\n",
       "</table>\n",
       "</div>"
      ],
      "text/plain": [
       "         condition          gene_id     score  logfoldchange      pval  \\\n",
       "0  ENSG00000001497  ENSG00000112306  4.758876       0.262604  0.000002   \n",
       "1  ENSG00000001497  ENSG00000265972  4.707202       1.077903  0.000003   \n",
       "2  ENSG00000001497  ENSG00000187837  4.311571       0.915918  0.000016   \n",
       "3  ENSG00000001497  ENSG00000196262  4.114563       0.257904  0.000039   \n",
       "4  ENSG00000001497  ENSG00000084207  4.041896       0.344575  0.000053   \n",
       "\n",
       "   pval_adj  \n",
       "0  0.002778  \n",
       "1  0.003072  \n",
       "2  0.012619  \n",
       "3  0.025552  \n",
       "4  0.028376  "
      ]
     },
     "execution_count": 7,
     "metadata": {},
     "output_type": "execute_result"
    }
   ],
   "source": [
    "results.head()"
   ]
  },
  {
   "cell_type": "markdown",
   "id": "a14b2ff6-ed69-4919-ad88-e3e19ff2c406",
   "metadata": {},
   "source": [
    "## Or Load from Disk"
   ]
  },
  {
   "cell_type": "code",
   "execution_count": 8,
   "id": "7e880492-2a44-4e18-bea0-01ff4ff02c22",
   "metadata": {},
   "outputs": [],
   "source": [
    "# results = pd.read_parquet(f\"/data2/compute_de_results_{deg_name}.arrow\")"
   ]
  },
  {
   "cell_type": "code",
   "execution_count": 26,
   "id": "883201ec-39ca-41ce-8764-49e4d82bfc0b",
   "metadata": {},
   "outputs": [],
   "source": [
    "conditions = list(set(results.condition))"
   ]
  },
  {
   "cell_type": "code",
   "execution_count": 27,
   "id": "de6d1cc1",
   "metadata": {},
   "outputs": [
    {
     "data": {
      "text/plain": [
       "((17614091, 6), 8563, 2057, 17614091)"
      ]
     },
     "execution_count": 27,
     "metadata": {},
     "output_type": "execute_result"
    }
   ],
   "source": [
    "results.shape, adata_filtered.n_vars, len(conditions), adata_filtered.n_vars * len(conditions)"
   ]
  },
  {
   "cell_type": "code",
   "execution_count": 28,
   "id": "a1c0cd3d-b297-4967-9c4c-06e0700e4927",
   "metadata": {},
   "outputs": [
    {
     "data": {
      "text/plain": [
       "17614091"
      ]
     },
     "execution_count": 28,
     "metadata": {},
     "output_type": "execute_result"
    }
   ],
   "source": [
    "2057 * 8563"
   ]
  },
  {
   "cell_type": "code",
   "execution_count": 29,
   "id": "56f48596-d7b9-4dba-bfb7-157b36b4c494",
   "metadata": {},
   "outputs": [
    {
     "data": {
      "text/html": [
       "<div>\n",
       "<style scoped>\n",
       "    .dataframe tbody tr th:only-of-type {\n",
       "        vertical-align: middle;\n",
       "    }\n",
       "\n",
       "    .dataframe tbody tr th {\n",
       "        vertical-align: top;\n",
       "    }\n",
       "\n",
       "    .dataframe thead th {\n",
       "        text-align: right;\n",
       "    }\n",
       "</style>\n",
       "<table border=\"1\" class=\"dataframe\">\n",
       "  <thead>\n",
       "    <tr style=\"text-align: right;\">\n",
       "      <th></th>\n",
       "      <th>gene_id</th>\n",
       "    </tr>\n",
       "    <tr>\n",
       "      <th>condition</th>\n",
       "      <th></th>\n",
       "    </tr>\n",
       "  </thead>\n",
       "  <tbody>\n",
       "    <tr>\n",
       "      <th>ENSG00000001497</th>\n",
       "      <td>8563</td>\n",
       "    </tr>\n",
       "    <tr>\n",
       "      <th>ENSG00000003509</th>\n",
       "      <td>8563</td>\n",
       "    </tr>\n",
       "    <tr>\n",
       "      <th>ENSG00000004779</th>\n",
       "      <td>8563</td>\n",
       "    </tr>\n",
       "    <tr>\n",
       "      <th>ENSG00000004897</th>\n",
       "      <td>8563</td>\n",
       "    </tr>\n",
       "    <tr>\n",
       "      <th>ENSG00000005007</th>\n",
       "      <td>8563</td>\n",
       "    </tr>\n",
       "  </tbody>\n",
       "</table>\n",
       "</div>"
      ],
      "text/plain": [
       "                 gene_id\n",
       "condition               \n",
       "ENSG00000001497     8563\n",
       "ENSG00000003509     8563\n",
       "ENSG00000004779     8563\n",
       "ENSG00000004897     8563\n",
       "ENSG00000005007     8563"
      ]
     },
     "execution_count": 29,
     "metadata": {},
     "output_type": "execute_result"
    }
   ],
   "source": [
    "results_counts = (\n",
    "    results[[\"condition\", \"gene_id\"]].groupby(\"condition\").count()\n",
    ")\n",
    "results_counts.head()"
   ]
  },
  {
   "cell_type": "code",
   "execution_count": 32,
   "id": "bd37abdf-9d58-4292-a723-2ef3b4c616e2",
   "metadata": {},
   "outputs": [
    {
     "data": {
      "text/plain": [
       "gene_id    True\n",
       "dtype: bool"
      ]
     },
     "execution_count": 32,
     "metadata": {},
     "output_type": "execute_result"
    }
   ],
   "source": [
    "(results_counts == adata_filtered.n_vars).all()"
   ]
  },
  {
   "cell_type": "code",
   "execution_count": null,
   "id": "e0bafaa7-9cc3-42c3-9611-c55d62acd273",
   "metadata": {},
   "outputs": [],
   "source": []
  },
  {
   "cell_type": "code",
   "execution_count": null,
   "id": "7b3ebf69-c92f-4871-abb8-85b07b7f362c",
   "metadata": {},
   "outputs": [],
   "source": []
  },
  {
   "cell_type": "markdown",
   "id": "7d8ea9e6-8e1b-40b8-b752-6a433f099337",
   "metadata": {},
   "source": [
    "# FIXME update to compare to existing validation file\n",
    "## Similarity Comparison -- Create Condition - Gene Id Mapper"
   ]
  },
  {
   "cell_type": "code",
   "execution_count": 9,
   "id": "4704a01b-d9e1-411c-9922-fd5216f758af",
   "metadata": {},
   "outputs": [
    {
     "name": "stdout",
     "output_type": "stream",
     "text": [
      "wilcoxon (19223723, 6) (20793007, 7)\n",
      "condition 1832 2057\n",
      "gene_id 15730 15730\n"
     ]
    }
   ],
   "source": [
    "for deg_test_name in de_keys:\n",
    "    print(deg_test_name, results[deg_test_name].shape, de_results[deg_test_name].shape)\n",
    "    print(\"condition\", results[deg_test_name]['condition'].nunique(), de_results[deg_test_name]['condition'].nunique())\n",
    "    print(\"gene_id\", results[deg_test_name]['gene_id'].nunique(), de_results[deg_test_name]['gene_id'].nunique())"
   ]
  },
  {
   "cell_type": "code",
   "execution_count": 10,
   "id": "9dccf86a",
   "metadata": {},
   "outputs": [],
   "source": [
    "# Create a column with condition / gene_id to filter the data for similarity\n",
    "def zip_names(df):\n",
    "    condition = df['condition'].astype(str).values\n",
    "    gene_id = df['gene_id'].astype(str).values\n",
    "    mapper = list(map(lambda x: '_'.join([x[0], x[1]]), zip(condition, gene_id)))\n",
    "    return mapper\n",
    "\n",
    "for deg_test_name in de_keys:\n",
    "    results[deg_test_name]['mapper'] = zip_names(results[deg_test_name])\n",
    "    de_results[deg_test_name]['mapper'] = zip_names(de_results[deg_test_name])"
   ]
  },
  {
   "cell_type": "code",
   "execution_count": 11,
   "id": "2d55744e-222e-4868-8439-b2c60930b601",
   "metadata": {},
   "outputs": [],
   "source": [
    "shared_condition_genes = {}\n",
    "for deg_test_name in de_keys:\n",
    "    shared_condition_genes[deg_test_name] = set(results[deg_test_name]['mapper']).intersection(set(de_results[deg_test_name]['mapper']))\n",
    "    shared_condition_genes[deg_test_name] = list(shared_condition_genes[deg_test_name])"
   ]
  },
  {
   "cell_type": "code",
   "execution_count": 12,
   "id": "9b8f5874-6b6e-490d-9548-fda4da0a6b50",
   "metadata": {},
   "outputs": [
    {
     "data": {
      "text/plain": [
       "(list, 19223723)"
      ]
     },
     "execution_count": 12,
     "metadata": {},
     "output_type": "execute_result"
    }
   ],
   "source": [
    "type(shared_condition_genes[deg_test_name]), len(shared_condition_genes[deg_test_name])"
   ]
  },
  {
   "cell_type": "code",
   "execution_count": 13,
   "id": "03483321-955b-48fa-bdda-3e26b806b3fe",
   "metadata": {},
   "outputs": [],
   "source": [
    "s_results = {}\n",
    "s_de_results = {}\n",
    "\n",
    "for deg_test_name in de_keys:\n",
    "    s_results[deg_test_name] = results[deg_test_name].set_index('mapper').loc[shared_condition_genes[deg_test_name]].reset_index(drop=True)\n",
    "    s_de_results[deg_test_name] = de_results[deg_test_name].set_index('mapper').loc[shared_condition_genes[deg_test_name]].reset_index(drop=True)"
   ]
  },
  {
   "cell_type": "markdown",
   "id": "40b1c76f-6119-41cf-b10b-9eabef217baa",
   "metadata": {},
   "source": [
    "## Compare Common Results"
   ]
  },
  {
   "cell_type": "code",
   "execution_count": 14,
   "id": "a9068147-36d7-45fd-b573-0b54d24cf18e",
   "metadata": {},
   "outputs": [
    {
     "name": "stdout",
     "output_type": "stream",
     "text": [
      "wilcoxon\n",
      "         condition          gene_id  logfoldchange      pval  pval_adj     score condition_name\n",
      "0  ENSG00000115866  ENSG00000113356       0.022121  0.950154  0.999435  0.062514           DARS\n",
      "1  ENSG00000155666  ENSG00000273802      -0.247788  0.560620  0.999799 -0.581920           KDM8\n",
      "2  ENSG00000109606  ENSG00000175221      -1.007420  0.000532  0.004872 -3.463998          DHX15\n",
      "3  ENSG00000095139  ENSG00000136811       0.087385  0.683991  1.000000  0.407024          ARCN1\n",
      "4  ENSG00000169045  ENSG00000119421       0.177865  0.172091  0.999798  1.365515        HNRNPH1\n",
      "         condition          gene_id  logfoldchange      pval  pval_adj     score\n",
      "0  ENSG00000115866  ENSG00000113356       0.022121  0.950154  0.999435  0.062514\n",
      "1  ENSG00000155666  ENSG00000273802      -0.247788  0.560620  0.999799 -0.581920\n",
      "2  ENSG00000109606  ENSG00000175221      -1.007420  0.000532  0.004872 -3.463998\n",
      "3  ENSG00000095139  ENSG00000136811       0.087385  0.683991  1.000000  0.407024\n",
      "4  ENSG00000169045  ENSG00000119421       0.177865  0.172091  0.999798  1.365515\n"
     ]
    }
   ],
   "source": [
    "common_columns = {}\n",
    "for deg_test_name in de_keys:\n",
    "    print(deg_test_name)\n",
    "    common_columns[deg_test_name] = set(s_de_results[deg_test_name].columns).intersection(s_results[deg_test_name].columns)\n",
    "    common_columns[deg_test_name] = list(sorted(common_columns[deg_test_name]))\n",
    "    old_columns = [c for c in s_de_results[deg_test_name].columns if c not in common_columns[deg_test_name]]\n",
    "    new_columns = [c for c in s_results[deg_test_name].columns if c not in common_columns[deg_test_name]]\n",
    "    \n",
    "    with pd.option_context('display.width', 10000, 'display.max_columns', 100):\n",
    "        print(s_de_results[deg_test_name][common_columns[deg_test_name] + old_columns].head())\n",
    "        print(s_results[deg_test_name][common_columns[deg_test_name] + new_columns].head())"
   ]
  },
  {
   "cell_type": "code",
   "execution_count": 27,
   "id": "00ce8e9c-9a4b-4df5-a423-2d93ed1b854d",
   "metadata": {},
   "outputs": [
    {
     "name": "stderr",
     "output_type": "stream",
     "text": [
      "/tmp/user/1001/ipykernel_436306/4284996731.py:7: FutureWarning: The default of observed=False is deprecated and will be changed to True in a future version of pandas. Pass observed=False to retain current behavior or observed=True to adopt the future default and silence this warning.\n",
      "  s_de_results[deg_test_name][[\"condition\", \"gene_id\"]].groupby(\"condition\").count()\n"
     ]
    },
    {
     "name": "stdout",
     "output_type": "stream",
     "text": [
      "wilcoxon\n",
      "2058 1832\n",
      "                 gene_id\n",
      "condition               \n",
      "ENSG00000001497     9889\n",
      "ENSG00000004779    10746\n",
      "ENSG00000004897    12173\n",
      "ENSG00000005007    10546\n",
      "ENSG00000005100    10502\n",
      "                 gene_id\n",
      "condition               \n",
      "ENSG00000001497     9889\n",
      "ENSG00000004779    10746\n",
      "ENSG00000004897    12173\n",
      "ENSG00000005007    10546\n",
      "ENSG00000005100    10502\n"
     ]
    }
   ],
   "source": [
    "# These are the result of running analysis on the raw data\n",
    "orig_wilcoxon_counts = {}\n",
    "new_wilcoxon_counts = {}\n",
    "\n",
    "for deg_test_name in de_keys:\n",
    "    orig_wilcoxon_counts[deg_test_name] = (\n",
    "        s_de_results[deg_test_name][[\"condition\", \"gene_id\"]].groupby(\"condition\").count()\n",
    "    )\n",
    "    new_wilcoxon_counts[deg_test_name] = (\n",
    "        s_results[deg_test_name][[\"condition\", \"gene_id\"]].groupby(\"condition\").count()\n",
    "    )\n",
    "    \n",
    "    print(deg_test_name)\n",
    "    print(len(orig_wilcoxon_counts[deg_test_name]), len(new_wilcoxon_counts[deg_test_name]))\n",
    "    \n",
    "    unique_conditions = sorted(list(set(orig_wilcoxon_counts[deg_test_name].index).intersection(new_wilcoxon_counts[deg_test_name].index)))\n",
    "    orig_wilcoxon_counts[deg_test_name] = orig_wilcoxon_counts[deg_test_name].loc[unique_conditions]\n",
    "    new_wilcoxon_counts[deg_test_name] = new_wilcoxon_counts[deg_test_name].loc[unique_conditions]\n",
    "    \n",
    "    print(orig_wilcoxon_counts[deg_test_name].head())\n",
    "    print(new_wilcoxon_counts[deg_test_name].head())"
   ]
  },
  {
   "cell_type": "code",
   "execution_count": 28,
   "id": "93bd148b",
   "metadata": {},
   "outputs": [
    {
     "name": "stdout",
     "output_type": "stream",
     "text": [
      "wilcoxon\n"
     ]
    }
   ],
   "source": [
    "for deg_test_name in de_keys:\n",
    "    print(deg_test_name)\n",
    "    assert_frame_equal(\n",
    "        orig_wilcoxon_counts[deg_test_name],\n",
    "        new_wilcoxon_counts[deg_test_name],\n",
    "        check_dtype=False,\n",
    "        check_index_type=False,\n",
    "        check_categorical=False,\n",
    "    )"
   ]
  },
  {
   "cell_type": "code",
   "execution_count": 32,
   "id": "4f92f0a2",
   "metadata": {},
   "outputs": [
    {
     "name": "stdout",
     "output_type": "stream",
     "text": [
      "wilcoxon\n",
      "19223723 19223723\n"
     ]
    },
    {
     "ename": "AssertionError",
     "evalue": "DataFrame.iloc[:, 3] (column name=\"pval\") are different\n\nDataFrame.iloc[:, 3] (column name=\"pval\") values are different (0.03325 %)\n[index]: [0, 1, 2, 3, 4, 5, 6, 7, 8, 9, 10, 11, 12, 13, 14, 15, 16, 17, 18, 19, 20, 21, 22, 23, 24, 25, 26, 27, 28, 29, 30, 31, 32, 33, 34, 35, 36, 37, 38, 39, 40, 41, 42, 43, 44, 45, 46, 47, 48, 49, 50, 51, 52, 53, 54, 55, 56, 57, 58, 59, 60, 61, 62, 63, 64, 65, 66, 67, 68, 69, 70, 71, 72, 73, 74, 75, 76, 77, 78, 79, 80, 81, 82, 83, 84, 85, 86, 87, 88, 89, 90, 91, 92, 93, 94, 95, 96, 97, 98, 99, ...]\n[left]:  [0.950153857543032, 0.5606204865261339, 0.0005322111935425, 0.68399051781166, 0.1720911505157198, 0.9969392219482772, 0.921392773980092, 0.1580455948894672, 0.2602954984994338, 0.7368714326045523, 0.1733138552747071, 0.3151932431314119, 0.5810950290404722, 0.6713197654014221, 0.6597510146580998, 0.7870172193578943, 0.5790260246423479, 0.2404660934721755, 0.5720442708822588, 0.6902298653876919, 0.7927452855893585, 0.5999966170648937, 0.2868328644263079, 0.907324530682686, 0.7752774772057947, 0.7389080890267076, 0.081259987112111, 0.7921304483278214, 0.1373683733986759, 0.2183111049881834, 0.5751590692274258, 0.9834997589324436, 0.2080682435896055, 0.872649858035315, 0.3232766648052418, 2.2625010940509723e-05, 0.8911803538742676, 0.4378710424070492, 0.1692640974874255, 0.7381774270738973, 0.9532747017471532, 0.1184512110854366, 0.3705507162250756, 0.9057129520424524, 0.1389880609863609, 0.6029631868104641, 0.0233769616463758, 0.6326359969185638, 0.9409485023014384, 0.7042751261420694, 0.1899671425568566, 0.724440873260489, 0.3683695634332092, 0.1172403851072333, 0.114424549843245, 0.023946092028222, 0.8812813459080352, 0.2467362672672604, 0.0154900678808812, 0.9618555847602762, 0.511136946879874, 0.0799456575308412, 0.7419269482798236, 0.0245995263296245, 0.1079089420678407, 0.7075336390228358, 0.7263012089668777, 0.2260850647418633, 0.8027375258313723, 0.5706434857453426, 0.8510373106226896, 0.6585340748669761, 0.0739283022866417, 0.8641054876405486, 0.7187465460906216, 0.6804745538746109, 0.920495451373839, 0.811285365964405, 0.9956471053076132, 0.8965170394131275, 0.501626436800819, 0.4934062707425712, 0.3557015393888678, 0.8821319542880073, 0.0042301204305526, 0.6707348068982417, 0.3988366323347574, 0.4468728207108308, 0.6612682645516857, 0.8364121328558082, 0.6587495209582304, 0.7686634621428239, 0.862328532223954, 0.5364376416864287, 0.7565451517255931, 0.9680527435154468, 0.944903236436636, 0.8977021146900537, 0.4660533144060884, 0.4769168733811332, ...]\n[right]: [0.950153857543032, 0.5606204865261339, 0.0005322111935425807, 0.68399051781166, 0.17209115051571988, 0.9969392219482773, 0.921392773980092, 0.15804559488946723, 0.2602954984994338, 0.7368714326045523, 0.1733138552747071, 0.31519324313141195, 0.5810950290404722, 0.6713197654014221, 0.6597510146580998, 0.7870172193578943, 0.5790260246423479, 0.2404660934721755, 0.5720442708822588, 0.6902298653876919, 0.7927452855893585, 0.5999966170648937, 0.28683286442630795, 0.9073245306826859, 0.7752774772057947, 0.7389080890267076, 0.08125998711211105, 0.7921304483278214, 0.13736837339867594, 0.2183111049881834, 0.5751590692274258, 0.9834997589324436, 0.20806824358960552, 0.872649858035315, 0.32327666480524186, 2.2625010940509723e-05, 0.8911803538742676, 0.4378710424070492, 0.16926409748742555, 0.7381774270738973, 0.9532747017471533, 0.11845121108543669, 0.3705507162250756, 0.9057129520424525, 0.1389880609863609, 0.6029631868104641, 0.023376961646375816, 0.6326359969185638, 0.9409485023014384, 0.7042751261420694, 0.18996714255685665, 0.724440873260489, 0.36836956343320926, 0.11724038510723335, 0.11442454984324502, 0.023946092028222076, 0.8812813459080352, 0.2467362672672604, 0.015490067880881222, 0.9618555847602762, 0.511136946879874, 0.07994565753084129, 0.7419269482798236, 0.024599526329624557, 0.1079089420678407, 0.7075336390228358, 0.7263012089668777, 0.2260850647418633, 0.8027375258313723, 0.5706434857453426, 0.8510373106226896, 0.6585340748669761, 0.0739283022866417, 0.8641054876405486, 0.7187465460906216, 0.6804745538746109, 0.920495451373839, 0.811285365964405, 0.9956471053076132, 0.8965170394131275, 0.501626436800819, 0.49340627074257126, 0.35570153938886784, 0.8821319542880073, 0.00423012043055267, 0.6707348068982417, 0.3988366323347574, 0.4468728207108308, 0.6612682645516857, 0.8364121328558082, 0.6587495209582304, 0.7686634621428239, 0.862328532223954, 0.5364376416864287, 0.7565451517255931, 0.9680527435154469, 0.9449032364366359, 0.8977021146900537, 0.46605331440608844, 0.4769168733811332, ...]\nAt positional index 1247, first diff: 0.540048433041013 != 0.5406201181652415",
     "output_type": "error",
     "traceback": [
      "\u001b[31m---------------------------------------------------------------------------\u001b[39m",
      "\u001b[31mAssertionError\u001b[39m                            Traceback (most recent call last)",
      "\u001b[36mCell\u001b[39m\u001b[36m \u001b[39m\u001b[32mIn[32]\u001b[39m\u001b[32m, line 4\u001b[39m\n\u001b[32m      2\u001b[39m \u001b[38;5;28mprint\u001b[39m(deg_test_name)\n\u001b[32m      3\u001b[39m \u001b[38;5;28mprint\u001b[39m(\u001b[38;5;28mlen\u001b[39m(s_de_results[deg_test_name][common_columns[deg_test_name]]), \u001b[38;5;28mlen\u001b[39m(s_results[deg_test_name][common_columns[deg_test_name]]))\n\u001b[32m----> \u001b[39m\u001b[32m4\u001b[39m \u001b[43massert_frame_equal\u001b[49m\u001b[43m(\u001b[49m\n\u001b[32m      5\u001b[39m \u001b[43m    \u001b[49m\u001b[43ms_de_results\u001b[49m\u001b[43m[\u001b[49m\u001b[43mdeg_test_name\u001b[49m\u001b[43m]\u001b[49m\u001b[43m[\u001b[49m\u001b[43mcommon_columns\u001b[49m\u001b[43m[\u001b[49m\u001b[43mdeg_test_name\u001b[49m\u001b[43m]\u001b[49m\u001b[43m]\u001b[49m\u001b[43m,\u001b[49m\n\u001b[32m      6\u001b[39m \u001b[43m    \u001b[49m\u001b[43ms_results\u001b[49m\u001b[43m[\u001b[49m\u001b[43mdeg_test_name\u001b[49m\u001b[43m]\u001b[49m\u001b[43m[\u001b[49m\u001b[43mcommon_columns\u001b[49m\u001b[43m[\u001b[49m\u001b[43mdeg_test_name\u001b[49m\u001b[43m]\u001b[49m\u001b[43m]\u001b[49m\u001b[43m,\u001b[49m\n\u001b[32m      7\u001b[39m \u001b[43m    \u001b[49m\u001b[43mcheck_dtype\u001b[49m\u001b[43m=\u001b[49m\u001b[38;5;28;43;01mFalse\u001b[39;49;00m\u001b[43m,\u001b[49m\n\u001b[32m      8\u001b[39m \u001b[43m    \u001b[49m\u001b[43mcheck_index_type\u001b[49m\u001b[43m=\u001b[49m\u001b[38;5;28;43;01mFalse\u001b[39;49;00m\u001b[43m,\u001b[49m\n\u001b[32m      9\u001b[39m \u001b[43m    \u001b[49m\u001b[43mcheck_categorical\u001b[49m\u001b[43m=\u001b[49m\u001b[38;5;28;43;01mFalse\u001b[39;49;00m\u001b[43m,\u001b[49m\n\u001b[32m     10\u001b[39m \u001b[43m    \u001b[49m\u001b[43matol\u001b[49m\u001b[43m=\u001b[49m\u001b[32;43m1e-4\u001b[39;49m\n\u001b[32m     11\u001b[39m \u001b[43m\u001b[49m\u001b[43m)\u001b[49m\n",
      "    \u001b[31m[... skipping hidden 2 frame]\u001b[39m\n",
      "\u001b[36mFile \u001b[39m\u001b[32mpandas/_libs/testing.pyx:55\u001b[39m, in \u001b[36mpandas._libs.testing.assert_almost_equal\u001b[39m\u001b[34m()\u001b[39m\n",
      "\u001b[36mFile \u001b[39m\u001b[32mpandas/_libs/testing.pyx:173\u001b[39m, in \u001b[36mpandas._libs.testing.assert_almost_equal\u001b[39m\u001b[34m()\u001b[39m\n",
      "\u001b[36mFile \u001b[39m\u001b[32m~/code/cz-benchmarks/.venv/lib/python3.12/site-packages/pandas/_testing/asserters.py:620\u001b[39m, in \u001b[36mraise_assert_detail\u001b[39m\u001b[34m(obj, message, left, right, diff, first_diff, index_values)\u001b[39m\n\u001b[32m    617\u001b[39m \u001b[38;5;28;01mif\u001b[39;00m first_diff \u001b[38;5;129;01mis\u001b[39;00m \u001b[38;5;129;01mnot\u001b[39;00m \u001b[38;5;28;01mNone\u001b[39;00m:\n\u001b[32m    618\u001b[39m     msg += \u001b[33mf\u001b[39m\u001b[33m\"\u001b[39m\u001b[38;5;130;01m\\n\u001b[39;00m\u001b[38;5;132;01m{\u001b[39;00mfirst_diff\u001b[38;5;132;01m}\u001b[39;00m\u001b[33m\"\u001b[39m\n\u001b[32m--> \u001b[39m\u001b[32m620\u001b[39m \u001b[38;5;28;01mraise\u001b[39;00m \u001b[38;5;167;01mAssertionError\u001b[39;00m(msg)\n",
      "\u001b[31mAssertionError\u001b[39m: DataFrame.iloc[:, 3] (column name=\"pval\") are different\n\nDataFrame.iloc[:, 3] (column name=\"pval\") values are different (0.03325 %)\n[index]: [0, 1, 2, 3, 4, 5, 6, 7, 8, 9, 10, 11, 12, 13, 14, 15, 16, 17, 18, 19, 20, 21, 22, 23, 24, 25, 26, 27, 28, 29, 30, 31, 32, 33, 34, 35, 36, 37, 38, 39, 40, 41, 42, 43, 44, 45, 46, 47, 48, 49, 50, 51, 52, 53, 54, 55, 56, 57, 58, 59, 60, 61, 62, 63, 64, 65, 66, 67, 68, 69, 70, 71, 72, 73, 74, 75, 76, 77, 78, 79, 80, 81, 82, 83, 84, 85, 86, 87, 88, 89, 90, 91, 92, 93, 94, 95, 96, 97, 98, 99, ...]\n[left]:  [0.950153857543032, 0.5606204865261339, 0.0005322111935425, 0.68399051781166, 0.1720911505157198, 0.9969392219482772, 0.921392773980092, 0.1580455948894672, 0.2602954984994338, 0.7368714326045523, 0.1733138552747071, 0.3151932431314119, 0.5810950290404722, 0.6713197654014221, 0.6597510146580998, 0.7870172193578943, 0.5790260246423479, 0.2404660934721755, 0.5720442708822588, 0.6902298653876919, 0.7927452855893585, 0.5999966170648937, 0.2868328644263079, 0.907324530682686, 0.7752774772057947, 0.7389080890267076, 0.081259987112111, 0.7921304483278214, 0.1373683733986759, 0.2183111049881834, 0.5751590692274258, 0.9834997589324436, 0.2080682435896055, 0.872649858035315, 0.3232766648052418, 2.2625010940509723e-05, 0.8911803538742676, 0.4378710424070492, 0.1692640974874255, 0.7381774270738973, 0.9532747017471532, 0.1184512110854366, 0.3705507162250756, 0.9057129520424524, 0.1389880609863609, 0.6029631868104641, 0.0233769616463758, 0.6326359969185638, 0.9409485023014384, 0.7042751261420694, 0.1899671425568566, 0.724440873260489, 0.3683695634332092, 0.1172403851072333, 0.114424549843245, 0.023946092028222, 0.8812813459080352, 0.2467362672672604, 0.0154900678808812, 0.9618555847602762, 0.511136946879874, 0.0799456575308412, 0.7419269482798236, 0.0245995263296245, 0.1079089420678407, 0.7075336390228358, 0.7263012089668777, 0.2260850647418633, 0.8027375258313723, 0.5706434857453426, 0.8510373106226896, 0.6585340748669761, 0.0739283022866417, 0.8641054876405486, 0.7187465460906216, 0.6804745538746109, 0.920495451373839, 0.811285365964405, 0.9956471053076132, 0.8965170394131275, 0.501626436800819, 0.4934062707425712, 0.3557015393888678, 0.8821319542880073, 0.0042301204305526, 0.6707348068982417, 0.3988366323347574, 0.4468728207108308, 0.6612682645516857, 0.8364121328558082, 0.6587495209582304, 0.7686634621428239, 0.862328532223954, 0.5364376416864287, 0.7565451517255931, 0.9680527435154468, 0.944903236436636, 0.8977021146900537, 0.4660533144060884, 0.4769168733811332, ...]\n[right]: [0.950153857543032, 0.5606204865261339, 0.0005322111935425807, 0.68399051781166, 0.17209115051571988, 0.9969392219482773, 0.921392773980092, 0.15804559488946723, 0.2602954984994338, 0.7368714326045523, 0.1733138552747071, 0.31519324313141195, 0.5810950290404722, 0.6713197654014221, 0.6597510146580998, 0.7870172193578943, 0.5790260246423479, 0.2404660934721755, 0.5720442708822588, 0.6902298653876919, 0.7927452855893585, 0.5999966170648937, 0.28683286442630795, 0.9073245306826859, 0.7752774772057947, 0.7389080890267076, 0.08125998711211105, 0.7921304483278214, 0.13736837339867594, 0.2183111049881834, 0.5751590692274258, 0.9834997589324436, 0.20806824358960552, 0.872649858035315, 0.32327666480524186, 2.2625010940509723e-05, 0.8911803538742676, 0.4378710424070492, 0.16926409748742555, 0.7381774270738973, 0.9532747017471533, 0.11845121108543669, 0.3705507162250756, 0.9057129520424525, 0.1389880609863609, 0.6029631868104641, 0.023376961646375816, 0.6326359969185638, 0.9409485023014384, 0.7042751261420694, 0.18996714255685665, 0.724440873260489, 0.36836956343320926, 0.11724038510723335, 0.11442454984324502, 0.023946092028222076, 0.8812813459080352, 0.2467362672672604, 0.015490067880881222, 0.9618555847602762, 0.511136946879874, 0.07994565753084129, 0.7419269482798236, 0.024599526329624557, 0.1079089420678407, 0.7075336390228358, 0.7263012089668777, 0.2260850647418633, 0.8027375258313723, 0.5706434857453426, 0.8510373106226896, 0.6585340748669761, 0.0739283022866417, 0.8641054876405486, 0.7187465460906216, 0.6804745538746109, 0.920495451373839, 0.811285365964405, 0.9956471053076132, 0.8965170394131275, 0.501626436800819, 0.49340627074257126, 0.35570153938886784, 0.8821319542880073, 0.00423012043055267, 0.6707348068982417, 0.3988366323347574, 0.4468728207108308, 0.6612682645516857, 0.8364121328558082, 0.6587495209582304, 0.7686634621428239, 0.862328532223954, 0.5364376416864287, 0.7565451517255931, 0.9680527435154469, 0.9449032364366359, 0.8977021146900537, 0.46605331440608844, 0.4769168733811332, ...]\nAt positional index 1247, first diff: 0.540048433041013 != 0.5406201181652415"
     ]
    }
   ],
   "source": [
    "for deg_test_name in de_keys:\n",
    "    print(deg_test_name)\n",
    "    print(len(s_de_results[deg_test_name][common_columns[deg_test_name]]), len(s_results[deg_test_name][common_columns[deg_test_name]]))\n",
    "    assert_frame_equal(\n",
    "        s_de_results[deg_test_name][common_columns[deg_test_name]],\n",
    "        s_results[deg_test_name][common_columns[deg_test_name]],\n",
    "        check_dtype=False,\n",
    "        check_index_type=False,\n",
    "        check_categorical=False,\n",
    "        atol=1e-4\n",
    "    )"
   ]
  },
  {
   "cell_type": "markdown",
   "id": "6f4911a5",
   "metadata": {},
   "source": [
    "## Misc Checks for Other Files"
   ]
  },
  {
   "cell_type": "code",
   "execution_count": null,
   "id": "b671ce4b",
   "metadata": {},
   "outputs": [],
   "source": [
    "# Verify Target Conditions to Save\n",
    "import json\n",
    "\n",
    "with open(\"../target_conditions_to_save.json\", \"r\") as f:\n",
    "    target_conditions_to_save = json.load(f)\n",
    "\n",
    "condition_list = set(map(lambda x: x.split(\"_\")[1], target_conditions_to_save.keys()))\n",
    "\n",
    "target_conditions_to_save_new = {}\n",
    "for key, value in target_conditions_to_save.items():\n",
    "    condition = key.split(\"_\")[1]\n",
    "    if condition not in target_conditions_to_save_new:\n",
    "        target_conditions_to_save_new[condition] = value\n",
    "    else:\n",
    "        assert target_conditions_to_save_new[condition] == value\n"
   ]
  },
  {
   "cell_type": "code",
   "execution_count": null,
   "id": "37da93ec",
   "metadata": {},
   "outputs": [],
   "source": [
    "# Validate that existing control cells ids \n",
    "skipped_conditions = []\n",
    "# Convert index to set for O(1) lookup instead of O(n) for each check\n",
    "index_set = set(adata_filtered.obs.index.values)\n",
    "for key, values in control_cells_ids.items():\n",
    "    if key not in adata_filtered.obs.condition:\n",
    "        skipped_conditions.append(key)\n",
    "    else:\n",
    "        assert all(x in index_set for x in values), f\"{values} not in {adata_filtered.obs.index.values}\"\n",
    "\n",
    "print(f\"Skipped conditions: {skipped_conditions}\")\n"
   ]
  },
  {
   "cell_type": "code",
   "execution_count": null,
   "id": "09c54c0e",
   "metadata": {},
   "outputs": [],
   "source": []
  }
 ],
 "metadata": {
  "kernelspec": {
   "display_name": "Python 3 (ipykernel)",
   "language": "python",
   "name": "python3"
  },
  "language_info": {
   "codemirror_mode": {
    "name": "ipython",
    "version": 3
   },
   "file_extension": ".py",
   "mimetype": "text/x-python",
   "name": "python",
   "nbconvert_exporter": "python",
   "pygments_lexer": "ipython3",
   "version": "3.12.7"
  }
 },
 "nbformat": 4,
 "nbformat_minor": 5
}
