{
 "cells": [
  {
   "cell_type": "markdown",
   "id": "a6b9d9f4",
   "metadata": {},
   "source": [
    "## Model Developer Workflow Example\n",
    "\n",
    "### Using czbenchmarks to evaluate an in-development model on a single task\n",
    "\n",
    "This section demonstrates how to leverage the czbenchmarks library to generate benchmark metrics for a previously published model (using existing model weights) and integrate `czbenchmarks` into the developer workflow for iterative evaluation of model performance over the course of parameter tuning. \n",
    "\n",
    "We focus on the `Cell Clustering` task as an example, but the same approach can be applied to other tasks supported by `czbenchmarks`. For a comprehensive overview of all tasks, refer to the `scvi_all_benchmark_results.ipynb` notebook.\n",
    "\n",
    "In this example, we use scVI, a popular tool for single-cell analysis, to compare the performance of published model weights against variations obtained through iterative re-training. \n",
    "\n",
    "> **NOTE**: This workflow can also be adapted for the development and evaluation of entirely new models.\n",
    "\n",
    "### Key Highlights:\n",
    "- **Benchmark Metrics**: Evaluate clustering performance using Adjusted Rand Index (ARI) and Normalized Mutual Information (NMI).\n",
    "- **Iterative Development**: Demonstrate how to fine-tune model parameters and assess performance improvements.\n",
    "- **Generalization**: Showcase how the workflow can be extended to other tasks and models.\n",
    "\n",
    "### Step 1: Setup and Imports\n",
    "\n",
    "To begin, ensure your environment is properly configured. This includes setting up a virtual environment, installing required dependencies, and registering the environment as a Jupyter kernel. Below is the setup process:\n",
    "\n",
    "#### Virtual Environment Setup (Optional)\n",
    "If you need to create a new virtual environment, uncomment and run the commands in cell below\n"
   ]
  },
  {
   "cell_type": "code",
   "execution_count": 16,
   "id": "0b596f76",
   "metadata": {
    "vscode": {
     "languageId": "shellscript"
    }
   },
   "outputs": [],
   "source": [
    "# # Create isolated virtual environment for scVI and czbenchmarks (run once)\n",
    "\n",
    "# !python3 -m venv .venv_scvi\n",
    "\n",
    "# # Install model required packages\n",
    "# !.venv_scvi/bin/python -m pip install --upgrade pip\n",
    "# !.venv_scvi/bin/python -m pip install ipykernel numpy pandas scvi-tools tabulate matplotlib seaborn\n",
    "\n",
    "# # Register the new environment as a Jupyter kernel (if not already registered)\n",
    "# !.venv_scvi/bin/python -m ipykernel install --user --name venv_scvi --display-name \"Python (.venv_scvi)\"\n",
    "\n",
    "# print(\"Virtual environment '.venv_scvi' created, dependencies installed, and kernel registered.\")\n"
   ]
  },
  {
   "cell_type": "markdown",
   "id": "5d093bce",
   "metadata": {},
   "source": [
    "#### Import Libraries\n",
    "\n",
    "This notebook requires the following libraries:\n",
    "\n",
    "- **czbenchmarks**: For dataset loading and task evaluation.\n",
    "- **scVI**: For model inference and fine-tuning.\n",
    "- **Visualization tools**: For plotting benchmark results (matplotlib, seaborn, pandas).\n",
    "- **Logging and warnings**: To configure notebook output and suppress unnecessary messages.\n"
   ]
  },
  {
   "cell_type": "code",
   "execution_count": 17,
   "id": "1f6678a2",
   "metadata": {},
   "outputs": [],
   "source": [
    "import logging\n",
    "import sys\n",
    "from czbenchmarks.datasets import load_dataset\n",
    "from czbenchmarks.datasets.single_cell_labeled import SingleCellLabeledDataset\n",
    "from czbenchmarks.tasks import (\n",
    "    ClusteringTask,\n",
    "    EmbeddingTask,\n",
    "    MetadataLabelPredictionTask,\n",
    ")\n",
    "from czbenchmarks.tasks.clustering import ClusteringTaskInput\n",
    "from czbenchmarks.tasks.embedding import EmbeddingTaskInput\n",
    "from czbenchmarks.tasks.label_prediction import MetadataLabelPredictionTaskInput\n",
    "\n",
    "# Model specific imports\n",
    "import scvi  # other imports can be used as required by model\n",
    "import functools\n",
    "\n",
    "# --- Visualization Imports ---\n",
    "import matplotlib.pyplot as plt\n",
    "import pandas as pd\n",
    "import seaborn as sns\n",
    "\n",
    "# Notebook config imports\n",
    "import warnings \n",
    "\n",
    "warnings.simplefilter('ignore')\n",
    "sns.set_theme(style=\"whitegrid\")\n",
    "\n",
    "# Set up basic logging to see the library's output\n",
    "logging.basicConfig(level=logging.INFO, stream=sys.stdout)"
   ]
  },
  {
   "cell_type": "markdown",
   "id": "5f9bcfda",
   "metadata": {},
   "source": [
    "### Step 2: Load a Dataset\n",
    "\n",
    "In this step, we load the pre-configured `tsv2_prostate` dataset, which is specifically designed for single-cell analysis tasks. The `czbenchmarks` library simplifies this process by automatically handling dataset download, caching, and loading as a `SingleCellLabeledDataset`. This ensures efficient and reproducible workflows for downstream analysis.\n",
    "\n",
    "### Key Features of the Loaded Dataset:\n",
    "- **Gene Expression Data (`dataset.adata`)**: The dataset is stored as an AnnData object, a widely used format for single-cell data that includes gene expression matrices and associated metadata.\n",
    "- **Cell Type Labels (`dataset.labels`)**: A pandas Series containing cell type annotations, which serve as ground truth for benchmarking tasks like clustering and label prediction.\n",
    "\n",
    "---\n",
    "\n",
    "> **NOTE**: Always verify that dataset is compatible with the model input requirements before running inference."
   ]
  },
  {
   "cell_type": "code",
   "execution_count": null,
   "id": "20bb6d6e",
   "metadata": {},
   "outputs": [],
   "source": [
    "dataset: SingleCellLabeledDataset = load_dataset(\"tsv2_prostate\")\n",
    "dataset.adata\n",
    "dataset.labels"
   ]
  },
  {
   "cell_type": "markdown",
   "id": "b4df4868",
   "metadata": {},
   "source": [
    "#### Step 2.1: Optionally Transform Data\n",
    "\n",
    "After loading the dataset, you may need to transform the data to meet the requirements of your model.  \n",
    "Typical transformations include:\n",
    "\n",
    "- **Batch Correction:** Adjust for batch effects using metadata columns (e.g., donor, assay, suspension type).\n",
    "- **Normalization:** Scale or normalize gene expression values.\n",
    "- **Feature Selection:** Select highly variable genes or filter out low-quality cells.\n",
    "- **Encoding:** Convert categorical metadata to string or numeric codes as needed.\n",
    "\n",
    "Carefully consider which transformations are appropriate for your analysis and model.  \n",
    "Below, we demonstrate batch key construction for downstream tasks.\n"
   ]
  },
  {
   "cell_type": "code",
   "execution_count": null,
   "id": "6ab4ce47",
   "metadata": {},
   "outputs": [],
   "source": [
    "\n",
    "required_obs_keys = [\"dataset_id\", \"assay\", \"suspension_type\", \"donor_id\"]\n",
    "adata = dataset.adata.copy()\n",
    "\n",
    "batch_keys = required_obs_keys\n",
    "adata.obs[\"batch\"] = functools.reduce(\n",
    "    lambda a, b: a + b, [adata.obs[c].astype(str) for c in batch_keys]\n",
    ")"
   ]
  },
  {
   "cell_type": "markdown",
   "id": "78a14fb9",
   "metadata": {},
   "source": [
    "### Step 3: Obtain Pre-trained Model, Run Model Inference, and Generate Output\n",
    "\n",
    "In this step, we leverage the pre-trained scVI model to generate cell embeddings for evaluation within the benchmarking framework. The pre-trained model weights serve as a reference point for comparison against fine-tuned or newly developed model variants.\n",
    "\n",
    "#### Key Steps:\n",
    "1. **Load Pre-trained Model Weights**: Use the scVI API to load the model weights associated with the reference model.\n",
    "2. **Prepare Dataset for Inference**: Ensure the dataset is compatible with the pre-trained model by mapping it to the required format using scVI's `prepare_query_anndata` function.\n",
    "3. **Generate Latent Representations**: Extract cell embeddings (latent representations) from the model, which will be used for downstream benchmarking tasks.\n",
    "\n",
    "---\n",
    "\n",
    "> **NOTE**: For your own model, adapt the loading and inference steps to match your model's requirements. "
   ]
  },
  {
   "cell_type": "code",
   "execution_count": null,
   "id": "28b579ad",
   "metadata": {},
   "outputs": [
    {
     "name": "stdout",
     "output_type": "stream",
     "text": [
      "\u001b[34mINFO    \u001b[0m File czbenchmarks_scvi_model/model.pt already downloaded                                                  \n",
      "\u001b[34mINFO    \u001b[0m Found \u001b[1;36m44.05\u001b[0m% reference vars in query data.                                                                \n",
      "\u001b[34mINFO    \u001b[0m File czbenchmarks_scvi_model/model.pt already downloaded                                                  \n",
      "Generated scVI embedding with shape: (2044, 50)\n"
     ]
    }
   ],
   "source": [
    "# Download pre-trained model weights from S3\n",
    "import os\n",
    "import boto3\n",
    "\n",
    "# Change locaation of model weights as needed\n",
    "local_model_dir = \"czbenchmarks_scvi_model\"\n",
    "if not os.path.exists(local_model_dir):\n",
    "    os.makedirs(local_model_dir, exist_ok=True)\n",
    "\n",
    "if not os.listdir(local_model_dir):\n",
    "    s3 = boto3.client(\"s3\")\n",
    "    bucket_name = \"cz-benchmarks-data\"\n",
    "    prefix = \"models/v1/scvi_2023_12_15/homo_sapiens/\"\n",
    "    print(\"Downloading model weights from S3...\")\n",
    "    paginator = s3.get_paginator(\"list_objects_v2\")\n",
    "    for page in paginator.paginate(Bucket=bucket_name, Prefix=prefix):\n",
    "        for obj in page.get(\"Contents\", []):\n",
    "            key = obj[\"Key\"]\n",
    "            if key.endswith(\"/\"):\n",
    "                continue\n",
    "            local_path = os.path.join(local_model_dir, os.path.relpath(key, prefix))\n",
    "            os.makedirs(os.path.dirname(local_path), exist_ok=True)\n",
    "            s3.download_file(bucket_name, key, local_path)\n",
    "    print(f\"Downloaded model weights to {local_model_dir} \\n\")\n",
    "\n",
    "model_weights_dir = local_model_dir\n",
    "\n",
    "# Use the scvi-tools API to map our dataset to the reference model\n",
    "scvi.model.SCVI.prepare_query_anndata(adata, model_weights_dir)\n",
    "scvi_model = scvi.model.SCVI.load_query_data(adata, model_weights_dir)\n",
    "scvi_model.is_trained = True  # Ensure the model is marked as trained\n",
    "\n",
    "# Now, generate the latent representation (the embedding)\n",
    "scvi_embedding = scvi_model.get_latent_representation()\n",
    "original_model_output = scvi_embedding\n",
    "\n",
    "print(f\"Generated scVI embedding with shape: {scvi_embedding.shape}\")"
   ]
  },
  {
   "cell_type": "markdown",
   "id": "33a034dc-a4f1-417b-bb5b-57cae6072a71",
   "metadata": {},
   "source": [
    "### Step 4: Run the Clustering Task for Both Pre-trained and In-development Model Variants\n",
    "\n",
    "In this step, we evaluate the quality of the embeddings generated by the models using the `ClusteringTask` from `czbenchmarks`. This task measures clustering performance using two widely recognized metrics:\n",
    "\n",
    "- **Adjusted Rand Index (ARI)**: Quantifies the similarity between the predicted clusters and the ground truth labels, adjusted for chance.\n",
    "- **Normalized Mutual Information (NMI)**: Measures the mutual dependence between predicted clusters and ground truth labels, normalized to ensure comparability across datasets.\n",
    "\n",
    "The task compares Leiden clusters derived from the embeddings to the true labels provided in the dataset. Higher scores for ARI and NMI indicate better clustering performance.\n"
   ]
  },
  {
   "cell_type": "markdown",
   "id": "fbad691c",
   "metadata": {},
   "source": [
    "#### Step 4.1. **Pre-trained Model Evaluation**: Benchmark the clustering performance of the embeddings generated by the pre-trained scVI model."
   ]
  },
  {
   "cell_type": "code",
   "execution_count": 20,
   "id": "17a912db-2c31-480e-83c7-eebb2f2dd77e",
   "metadata": {},
   "outputs": [],
   "source": [
    "# Task step 1. Initialize the task\n",
    "clustering_task = ClusteringTask()\n",
    "\n",
    "# Task step 2. Define the inputs for the task\n",
    "clustering_task_input = ClusteringTaskInput(\n",
    "    obs=dataset.adata.obs,\n",
    "    input_labels=dataset.labels,\n",
    ")\n",
    "\n",
    "benchmark_results = {} # dictionary to store benchmark results for all evaluations\n",
    "\n",
    "# Task step 3. Run the task on the original model\n",
    "original_clustering_results = clustering_task.run(\n",
    "    cell_representation=original_model_output,\n",
    "    task_input=clustering_task_input\n",
    ")\n",
    "\n",
    "# Add results to the results dictionary for future comparison\n",
    "oc_results = [i.model_dump() for i in original_clustering_results]\n",
    "benchmark_results[\"original\"] = {oc_results[0]['metric_type']: oc_results[0]['value'],\n",
    "                                 oc_results[1]['metric_type']: oc_results[1]['value']}\n",
    "\n"
   ]
  },
  {
   "cell_type": "markdown",
   "id": "be13cbf0",
   "metadata": {},
   "source": [
    "#### Step 4.2. **Baseline Comparison**: Compute clustering metrics for a baseline method (e.g., PCA) to establish a reference point for comparison."
   ]
  },
  {
   "cell_type": "code",
   "execution_count": 21,
   "id": "6c39fb3b",
   "metadata": {},
   "outputs": [],
   "source": [
    "# Compute and run the baseline for comparison\n",
    "expression_data = dataset.adata.X\n",
    "clustering_baseline = clustering_task.compute_baseline(expression_data)\n",
    "clustering_baseline_results = clustering_task.run(\n",
    "    cell_representation=clustering_baseline,\n",
    "    task_input=clustering_task_input,\n",
    ") \n",
    "\n",
    "# Add baseline results to the results dictionary for future comparison\n",
    "base = [i.model_dump() for i in clustering_baseline_results]\n",
    "benchmark_results[\"baseline\"] = {base[0]['metric_type']: base[0]['value'],\n",
    "                                 base[1]['metric_type']: base[1]['value']}"
   ]
  },
  {
   "cell_type": "markdown",
   "id": "f8b0e3d6",
   "metadata": {},
   "source": [
    "#### Step 4.3. **Iterative Model Evaluation**: Extend the workflow to evaluate clustering performance for fine-tuned or newly developed model variants."
   ]
  },
  {
   "cell_type": "markdown",
   "id": "712c2a91",
   "metadata": {},
   "source": [
    "##### **Demo**: Fine-Tune the Model - Simulating Iterative Parameter Updates\n",
    "\n",
    "To showcase how `czbenchmarks` can be integrated into the model development process, we simulate an iterative development lifecycle by generating scVI model variants with different parameterizations. \n",
    "\n",
    "Key Steps:\n",
    "1. **Generate Model Variants**: Create multiple versions of the scVI model by varying key parameters (e.g., latent dimensions).\n",
    "2. **Train Each Variant**: Fine-tune each model variant using the scVI training API with customized training configurations.\n",
    "3. **Evaluate Performance**: Use `czbenchmarks` to compute benchmark metrics for each variant, enabling comparison across iterations.\n"
   ]
  },
  {
   "cell_type": "code",
   "execution_count": 22,
   "id": "653e0095",
   "metadata": {},
   "outputs": [],
   "source": [
    "# Demo function to simulate fine-tuning of a model, here using scVI as an example\n",
    "def fine_tune_model(latent_param):\n",
    "\n",
    "    # create a new iteration of this model with different parameters\n",
    "    this_model_version = scvi.model.SCVI(adata, n_latent=latent_param) \n",
    "    this_model_version.train(\n",
    "        max_epochs=10, \n",
    "        plan_kwargs={\"lr\": 0.0005},\n",
    "        early_stopping=True,\n",
    "        early_stopping_patience=10\n",
    "    )\n",
    "    \n",
    "    print(\"Model update complete.\")\n",
    "    \n",
    "    return this_model_version"
   ]
  },
  {
   "cell_type": "markdown",
   "id": "14e7bf27-d67b-4cd8-af3a-7095766827a9",
   "metadata": {},
   "source": [
    "**Demonstrating Iterative Model Evaluation with czbenchmarks**\n",
    "\n",
    "In this section, we showcase how `czbenchmarks` can be used to evaluate the performance of updated model variants in an iterative development workflow. Using the `fine_tune_model` function, we simulate parameter updates by looping through multiple configurations (e.g., `n_hidden` = [32, 64, 128]) and assess the impact of these changes on clustering performance.\n"
   ]
  },
  {
   "cell_type": "code",
   "execution_count": 23,
   "id": "76cda22c-0354-4120-ac6c-21c712d502e0",
   "metadata": {
    "scrolled": true
   },
   "outputs": [
    {
     "name": "stderr",
     "output_type": "stream",
     "text": [
      "INFO: GPU available: True (mps), used: False\n",
      "INFO:lightning.pytorch.utilities.rank_zero:GPU available: True (mps), used: False\n",
      "INFO: TPU available: False, using: 0 TPU cores\n",
      "INFO:lightning.pytorch.utilities.rank_zero:TPU available: False, using: 0 TPU cores\n",
      "INFO: HPU available: False, using: 0 HPUs\n",
      "INFO:lightning.pytorch.utilities.rank_zero:HPU available: False, using: 0 HPUs\n"
     ]
    },
    {
     "name": "stdout",
     "output_type": "stream",
     "text": [
      "Epoch 10/10: 100%|██████████| 10/10 [00:09<00:00,  1.03it/s, v_num=1, train_loss_step=3.07e+3, train_loss_epoch=2.79e+3]"
     ]
    },
    {
     "name": "stderr",
     "output_type": "stream",
     "text": [
      "INFO: `Trainer.fit` stopped: `max_epochs=10` reached.\n",
      "INFO:lightning.pytorch.utilities.rank_zero:`Trainer.fit` stopped: `max_epochs=10` reached.\n"
     ]
    },
    {
     "name": "stdout",
     "output_type": "stream",
     "text": [
      "Epoch 10/10: 100%|██████████| 10/10 [00:09<00:00,  1.04it/s, v_num=1, train_loss_step=3.07e+3, train_loss_epoch=2.79e+3]"
     ]
    },
    {
     "name": "stderr",
     "output_type": "stream",
     "text": [
      "INFO: GPU available: True (mps), used: False\n",
      "INFO:lightning.pytorch.utilities.rank_zero:GPU available: True (mps), used: False\n",
      "INFO: TPU available: False, using: 0 TPU cores\n",
      "INFO:lightning.pytorch.utilities.rank_zero:TPU available: False, using: 0 TPU cores\n",
      "INFO: HPU available: False, using: 0 HPUs\n",
      "INFO:lightning.pytorch.utilities.rank_zero:HPU available: False, using: 0 HPUs\n"
     ]
    },
    {
     "name": "stdout",
     "output_type": "stream",
     "text": [
      "\n",
      "Model update complete.\n",
      "Generated fine-tuned scVI embedding with shape: (2044, 3)\n",
      "Epoch 10/10: 100%|██████████| 10/10 [00:08<00:00,  1.15it/s, v_num=1, train_loss_step=2.77e+3, train_loss_epoch=2.74e+3]"
     ]
    },
    {
     "name": "stderr",
     "output_type": "stream",
     "text": [
      "INFO: `Trainer.fit` stopped: `max_epochs=10` reached.\n",
      "INFO:lightning.pytorch.utilities.rank_zero:`Trainer.fit` stopped: `max_epochs=10` reached.\n"
     ]
    },
    {
     "name": "stdout",
     "output_type": "stream",
     "text": [
      "Epoch 10/10: 100%|██████████| 10/10 [00:08<00:00,  1.13it/s, v_num=1, train_loss_step=2.77e+3, train_loss_epoch=2.74e+3]"
     ]
    },
    {
     "name": "stderr",
     "output_type": "stream",
     "text": [
      "INFO: GPU available: True (mps), used: False\n",
      "INFO:lightning.pytorch.utilities.rank_zero:GPU available: True (mps), used: False\n",
      "INFO: TPU available: False, using: 0 TPU cores\n",
      "INFO:lightning.pytorch.utilities.rank_zero:TPU available: False, using: 0 TPU cores\n",
      "INFO: HPU available: False, using: 0 HPUs\n",
      "INFO:lightning.pytorch.utilities.rank_zero:HPU available: False, using: 0 HPUs\n"
     ]
    },
    {
     "name": "stdout",
     "output_type": "stream",
     "text": [
      "\n",
      "Model update complete.\n",
      "Generated fine-tuned scVI embedding with shape: (2044, 5)\n",
      "Epoch 10/10: 100%|██████████| 10/10 [00:08<00:00,  1.13it/s, v_num=1, train_loss_step=2.54e+3, train_loss_epoch=2.78e+3]"
     ]
    },
    {
     "name": "stderr",
     "output_type": "stream",
     "text": [
      "INFO: `Trainer.fit` stopped: `max_epochs=10` reached.\n",
      "INFO:lightning.pytorch.utilities.rank_zero:`Trainer.fit` stopped: `max_epochs=10` reached.\n"
     ]
    },
    {
     "name": "stdout",
     "output_type": "stream",
     "text": [
      "Epoch 10/10: 100%|██████████| 10/10 [00:08<00:00,  1.13it/s, v_num=1, train_loss_step=2.54e+3, train_loss_epoch=2.78e+3]"
     ]
    },
    {
     "name": "stderr",
     "output_type": "stream",
     "text": [
      "INFO: GPU available: True (mps), used: False\n",
      "INFO:lightning.pytorch.utilities.rank_zero:GPU available: True (mps), used: False\n",
      "INFO: TPU available: False, using: 0 TPU cores\n",
      "INFO:lightning.pytorch.utilities.rank_zero:TPU available: False, using: 0 TPU cores\n",
      "INFO: HPU available: False, using: 0 HPUs\n",
      "INFO:lightning.pytorch.utilities.rank_zero:HPU available: False, using: 0 HPUs\n"
     ]
    },
    {
     "name": "stdout",
     "output_type": "stream",
     "text": [
      "\n",
      "Model update complete.\n",
      "Generated fine-tuned scVI embedding with shape: (2044, 10)\n",
      "Epoch 10/10: 100%|██████████| 10/10 [00:08<00:00,  1.11it/s, v_num=1, train_loss_step=2.61e+3, train_loss_epoch=2.78e+3]"
     ]
    },
    {
     "name": "stderr",
     "output_type": "stream",
     "text": [
      "INFO: `Trainer.fit` stopped: `max_epochs=10` reached.\n",
      "INFO:lightning.pytorch.utilities.rank_zero:`Trainer.fit` stopped: `max_epochs=10` reached.\n"
     ]
    },
    {
     "name": "stdout",
     "output_type": "stream",
     "text": [
      "Epoch 10/10: 100%|██████████| 10/10 [00:09<00:00,  1.11it/s, v_num=1, train_loss_step=2.61e+3, train_loss_epoch=2.78e+3]\n",
      "Model update complete.\n",
      "Generated fine-tuned scVI embedding with shape: (2044, 25)\n"
     ]
    }
   ],
   "source": [
    "# ---------------------------------------------------------------\n",
    "# Iterative Model Variant Evaluation:\n",
    "#\n",
    "# Note: Here, we optimize the model by varying the latent dimension (n_latent),\n",
    "# but this workflow can be adapted to test other model parameters or architectures.\n",
    "# ---------------------------------------------------------------\n",
    "\n",
    "latent_param_to_test = [3, 5, 10, 25]\n",
    "\n",
    "for e in latent_param_to_test:\n",
    "\n",
    "    # Fine-tune the model\n",
    "    tuned_model = fine_tune_model(e)\n",
    "\n",
    "    # Generate the latent representation from the *fine-tuned* model\n",
    "    fine_tuned_model_output = tuned_model.get_latent_representation()\n",
    "    \n",
    "    print(f\"Generated fine-tuned scVI embedding with shape: {fine_tuned_model_output.shape}\")\n",
    "\n",
    "    # 3. Run the task on this model variant's output\n",
    "    clustering_results = clustering_task.run(\n",
    "        cell_representation=fine_tuned_model_output,\n",
    "        task_input=clustering_task_input,\n",
    "    )\n",
    "\n",
    "    # Add results to the results dictionary for future comparison \n",
    "    this_result = [i.model_dump() for i in clustering_results]\n",
    "    benchmark_results[f\"nlayers_{e}\"] = {this_result[0]['metric_type']: this_result[0]['value'],\n",
    "                                       this_result[1]['metric_type']: this_result[1]['value']}\n"
   ]
  },
  {
   "cell_type": "markdown",
   "id": "37a252dd-0450-4a95-af66-3cc1e06f4910",
   "metadata": {},
   "source": [
    "**Print Benchmark Results Across Model Variants**\n",
    "\n",
    "The benchmark results provide a comparative analysis of clustering performance across different model configurations:\n",
    "\n",
    "- **Established Model Variant (`scVI original`)**: Represents the pre-trained scVI model using default parameters.\n",
    "- **Experimental Model Variants (`nlayers_32`, `nlayers_64`, `nlayers_128`)**: Fine-tuned scVI models with varying latent dimensions, showcasing the impact of architectural changes.\n",
    "- **Baseline Method (`PCA`)**: Serves as a reference point for evaluating the effectiveness of scVI embeddings compared to a standard dimensionality reduction technique."
   ]
  },
  {
   "cell_type": "code",
   "execution_count": 24,
   "id": "06f01c74-9f62-49a7-9492-7af069095cc1",
   "metadata": {},
   "outputs": [
    {
     "data": {
      "text/html": [
       "<div>\n",
       "<style scoped>\n",
       "    .dataframe tbody tr th:only-of-type {\n",
       "        vertical-align: middle;\n",
       "    }\n",
       "\n",
       "    .dataframe tbody tr th {\n",
       "        vertical-align: top;\n",
       "    }\n",
       "\n",
       "    .dataframe thead th {\n",
       "        text-align: right;\n",
       "    }\n",
       "</style>\n",
       "<table border=\"1\" class=\"dataframe\">\n",
       "  <thead>\n",
       "    <tr style=\"text-align: right;\">\n",
       "      <th></th>\n",
       "      <th>original</th>\n",
       "      <th>baseline</th>\n",
       "      <th>nlayers_3</th>\n",
       "      <th>nlayers_5</th>\n",
       "      <th>nlayers_10</th>\n",
       "      <th>nlayers_25</th>\n",
       "    </tr>\n",
       "  </thead>\n",
       "  <tbody>\n",
       "    <tr>\n",
       "      <th>MetricType.ADJUSTED_RAND_INDEX</th>\n",
       "      <td>0.728258</td>\n",
       "      <td>0.626707</td>\n",
       "      <td>0.470535</td>\n",
       "      <td>0.537191</td>\n",
       "      <td>0.488317</td>\n",
       "      <td>0.582589</td>\n",
       "    </tr>\n",
       "    <tr>\n",
       "      <th>MetricType.NORMALIZED_MUTUAL_INFO</th>\n",
       "      <td>0.869382</td>\n",
       "      <td>0.832648</td>\n",
       "      <td>0.698965</td>\n",
       "      <td>0.748169</td>\n",
       "      <td>0.722576</td>\n",
       "      <td>0.766861</td>\n",
       "    </tr>\n",
       "  </tbody>\n",
       "</table>\n",
       "</div>"
      ],
      "text/plain": [
       "                                   original  baseline  nlayers_3  nlayers_5  \\\n",
       "MetricType.ADJUSTED_RAND_INDEX     0.728258  0.626707   0.470535   0.537191   \n",
       "MetricType.NORMALIZED_MUTUAL_INFO  0.869382  0.832648   0.698965   0.748169   \n",
       "\n",
       "                                   nlayers_10  nlayers_25  \n",
       "MetricType.ADJUSTED_RAND_INDEX       0.488317    0.582589  \n",
       "MetricType.NORMALIZED_MUTUAL_INFO    0.722576    0.766861  "
      ]
     },
     "execution_count": 24,
     "metadata": {},
     "output_type": "execute_result"
    }
   ],
   "source": [
    "pd.DataFrame(benchmark_results).head()"
   ]
  },
  {
   "cell_type": "markdown",
   "id": "7e36e4f2",
   "metadata": {},
   "source": [
    "**Visualizing Benchmark Results Across Model Variants**\n",
    "\n",
    "The results are visualized using bar plots, highlighting the Adjusted Rand Index (ARI) and Normalized Mutual Information (NMI) scores for each model variant. Higher scores indicate better clustering performance, enabling a clear comparison of model effectiveness."
   ]
  },
  {
   "cell_type": "code",
   "execution_count": 25,
   "id": "f421343f-a140-49b1-b228-6571d30a49fc",
   "metadata": {},
   "outputs": [
    {
     "data": {
      "image/png": "[encoded data removed]",
      "text/plain": [
       "<Figure size 1000x500 with 1 Axes>"
      ]
     },
     "metadata": {},
     "output_type": "display_data"
    }
   ],
   "source": [
    "pd.DataFrame(benchmark_results).plot.bar(figsize=(10,5))\n",
    "plt.title(\"Clustering Performance: scVI Model Variants vs. PCA Baseline\", fontsize=14)\n",
    "plt.ylabel(\"Score\", fontsize=10)\n",
    "plt.xlabel(\"Metric\", fontsize=10)\n",
    "plt.xticks(rotation=0)\n",
    "plt.legend(title=\"Source\")\n",
    "plt.tight_layout()\n",
    "plt.show()"
   ]
  }
 ],
 "metadata": {
  "kernelspec": {
   "display_name": ".venv_scvi",
   "language": "python",
   "name": "python3"
  },
  "language_info": {
   "codemirror_mode": {
    "name": "ipython",
    "version": 3
   },
   "file_extension": ".py",
   "mimetype": "text/x-python",
   "name": "python",
   "nbconvert_exporter": "python",
   "pygments_lexer": "ipython3",
   "version": "3.10.16"
  }
 },
 "nbformat": 4,
 "nbformat_minor": 5
}
